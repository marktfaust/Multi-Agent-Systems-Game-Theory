{
 "cells": [
  {
   "cell_type": "markdown",
   "metadata": {},
   "source": [
    "# Artificial Intelligence\n",
    "# 464/664\n",
    "# Assignment #3\n",
    "\n",
    "## General Directions for this Assignment\n",
    "\n",
    "00. We're using a Jupyter Notebook environment (tutorial available here: https://jupyter-notebook-beginner-guide.readthedocs.io/en/latest/what_is_jupyter.html),\n",
    "01. Read the entire notebook before beginning your work, \n",
    "02. Output format should be exactly as requested, \n",
    "03. Each helper function should be preceeded by documentation (Markdown cell),\n",
    "05. No comments in the code; anything worth mentioning should be included in the documentation,\n",
    "06. Keep functions to 20 lines or less (including empty lines so do not add any),\n",
    "08. Use descriptive variable names,\n",
    "09. Functions should do only one thing,\n",
    "10. Check submission deadline on Gradescope, \n",
    "11. Rename the file to Last_First_assignment_2, \n",
    "12. Submit your notebook (as .ipynb, not PDF) using Gradescope, and\n",
    "13. Do not submit any other files.\n",
    "\n",
    "\n",
    "## Directions _not_ applicable for this Assignment:\n",
    "* Do not use classes,\n",
    "* Each helper function should be followed by three assert-style unit tests.\n",
    "\n",
    "\n",
    "## Before You Submit...\n",
    "\n",
    "1. Re-read the general instructions provided above, and\n",
    "2. Hit \"Kernel\"->\"Restart & Run All\"."
   ]
  },
  {
   "cell_type": "markdown",
   "metadata": {},
   "source": [
    "# Problem #1: Multiagent Systems\n",
    "\n",
    "## The World\n",
    "\n",
    "A `List of Lists` is used to represent the world. Cells marked as '⬛' are obstacles in the world and are not traversable."
   ]
  },
  {
   "cell_type": "code",
   "execution_count": 1,
   "metadata": {},
   "outputs": [],
   "source": [
    "world = [\n",
    "['⬜','⬜','⬜','⬜','⬜','⬜','⬜','⬜','⬜','⬜','⬜','⬜','⬜','⬜','⬜','⬜','⬜','⬜','⬜','⬜','⬜'],\n",
    "['⬜','⬜','⬜','⬜','⬜','⬜','⬜','⬜','⬜','⬜','⬜','⬜','⬜','⬜','⬜','⬜','⬜','⬜','⬜','⬜','⬜'],\n",
    "['⬜','⬜','⬜','⬜','⬜','⬜','⬜','⬜','⬜','⬜','⬜','⬜','⬜','⬜','⬜','⬜','⬜','⬜','⬜','⬜','⬜'],\n",
    "['⬜','⬜','⬜','⬜','⬜','⬜','⬜','⬜','⬜','⬜','⬜','⬜','⬜','⬜','⬜','⬜','⬜','⬜','⬜','⬜','⬜'],\n",
    "['⬜','⬜','⬜','⬜','⬜','⬜','⬜','⬜','⬜','⬜','⬜','⬜','⬜','⬜','⬜','⬜','⬜','⬜','⬜','⬜','⬜'],\n",
    "['⬜','⬜','⬜','⬜','⬜','⬜','⬜','⬜','⬜','⬜','⬜','⬜','⬜','⬜','⬜','⬜','⬜','⬜','⬜','⬜','⬜'],\n",
    "['⬜','⬜','⬜','⬜','⬜','⬜','⬜','⬜','⬜','⬜','⬜','⬜','⬜','⬜','⬜','⬜','⬜','⬜','⬜','⬜','⬜'],\n",
    "['⬜','⬜','⬜','⬜','⬜','⬜','⬜','⬜','⬜','⬜','⬜','⬜','⬜','⬜','⬜','⬜','⬜','⬜','⬜','⬜','⬜'],\n",
    "['⬜','⬜','⬜','⬜','⬜','⬜','⬜','⬜','⬜','⬜','⬜','⬜','⬜','⬜','⬜','⬜','⬜','⬜','⬜','⬜','⬜'],\n",
    "['⬜','⬜','⬜','⬜','⬜','⬜','⬜','⬜','⬜','⬛','⬛','⬛','⬜','⬜','⬜','⬜','⬜','⬜','⬜','⬜','⬜'],\n",
    "['⬜','⬜','⬜','⬜','⬜','⬜','⬜','⬜','⬜','⬛','⬛','⬛','⬜','⬜','⬜','⬜','⬜','⬜','⬜','⬜','⬜'],\n",
    "['⬜','⬜','⬜','⬜','⬜','⬜','⬜','⬜','⬜','⬛','⬛','⬛','⬜','⬜','⬜','⬜','⬜','⬜','⬜','⬜','⬜'],\n",
    "['⬜','⬜','⬜','⬜','⬜','⬜','⬜','⬜','⬜','⬜','⬜','⬜','⬜','⬜','⬜','⬜','⬜','⬜','⬜','⬜','⬜'],\n",
    "['⬜','⬜','⬜','⬜','⬜','⬜','⬜','⬜','⬜','⬜','⬜','⬜','⬜','⬜','⬜','⬜','⬜','⬜','⬜','⬜','⬜'],\n",
    "['⬜','⬜','⬜','⬜','⬜','⬜','⬜','⬜','⬜','⬜','⬜','⬜','⬜','⬜','⬜','⬜','⬜','⬜','⬜','⬜','⬜'],\n",
    "['⬜','⬜','⬜','⬜','⬜','⬜','⬜','⬜','⬜','⬜','⬜','⬜','⬜','⬜','⬜','⬜','⬜','⬜','⬜','⬜','⬜'],\n",
    "['⬜','⬜','⬜','⬜','⬜','⬜','⬜','⬜','⬜','⬜','⬜','⬜','⬜','⬜','⬜','⬜','⬜','⬜','⬜','⬜','⬜'],\n",
    "['⬜','⬜','⬜','⬜','⬜','⬜','⬜','⬜','⬜','⬜','⬜','⬜','⬜','⬜','⬜','⬜','⬜','⬜','⬜','⬜','⬜'],\n",
    "['⬜','⬜','⬜','⬜','⬜','⬜','⬜','⬜','⬜','⬜','⬜','⬜','⬜','⬜','⬜','⬜','⬜','⬜','⬜','⬜','⬜'],\n",
    "['⬜','⬜','⬜','⬜','⬜','⬜','⬜','⬜','⬜','⬜','⬜','⬜','⬜','⬜','⬜','⬜','⬜','⬜','⬜','⬜','⬜'],\n",
    "['⬜','⬜','⬜','⬜','⬜','⬜','⬜','⬜','⬜','⬜','⬜','⬜','⬜','⬜','⬜','⬜','⬜','⬜','⬜','⬜','⬜']]"
   ]
  },
  {
   "cell_type": "code",
   "execution_count": 2,
   "metadata": {},
   "outputs": [
    {
     "name": "stdout",
     "output_type": "stream",
     "text": [
      "⬜⬜⬜⬜⬜⬜⬜⬜⬜⬜⬜⬜⬜⬜⬜⬜⬜⬜⬜⬜⬜\n",
      "⬜⬜⬜⬜⬜⬜⬜⬜⬜⬜⬜⬜⬜⬜⬜⬜⬜⬜⬜⬜⬜\n",
      "⬜⬜⬜⬜⬜⬜⬜⬜⬜⬜⬜⬜⬜⬜⬜⬜⬜⬜⬜⬜⬜\n",
      "⬜⬜⬜⬜⬜⬜⬜⬜⬜⬜⬜⬜⬜⬜⬜⬜⬜⬜⬜⬜⬜\n",
      "⬜⬜⬜⬜⬜⬜⬜⬜⬜⬜⬜⬜⬜⬜⬜⬜⬜⬜⬜⬜⬜\n",
      "⬜⬜⬜⬜⬜⬜⬜⬜⬜⬜⬜⬜⬜⬜⬜⬜⬜⬜⬜⬜⬜\n",
      "⬜⬜⬜⬜⬜⬜⬜⬜⬜⬜⬜⬜⬜⬜⬜⬜⬜⬜⬜⬜⬜\n",
      "⬜⬜⬜⬜⬜⬜⬜⬜⬜⬜⬜⬜⬜⬜⬜⬜⬜⬜⬜⬜⬜\n",
      "⬜⬜⬜⬜⬜⬜⬜⬜⬜⬜⬜⬜⬜⬜⬜⬜⬜⬜⬜⬜⬜\n",
      "⬜⬜⬜⬜⬜⬜⬜⬜⬜⬛⬛⬛⬜⬜⬜⬜⬜⬜⬜⬜⬜\n",
      "⬜⬜⬜⬜⬜⬜⬜⬜⬜⬛⬛⬛⬜⬜⬜⬜⬜⬜⬜⬜⬜\n",
      "⬜⬜⬜⬜⬜⬜⬜⬜⬜⬛⬛⬛⬜⬜⬜⬜⬜⬜⬜⬜⬜\n",
      "⬜⬜⬜⬜⬜⬜⬜⬜⬜⬜⬜⬜⬜⬜⬜⬜⬜⬜⬜⬜⬜\n",
      "⬜⬜⬜⬜⬜⬜⬜⬜⬜⬜⬜⬜⬜⬜⬜⬜⬜⬜⬜⬜⬜\n",
      "⬜⬜⬜⬜⬜⬜⬜⬜⬜⬜⬜⬜⬜⬜⬜⬜⬜⬜⬜⬜⬜\n",
      "⬜⬜⬜⬜⬜⬜⬜⬜⬜⬜⬜⬜⬜⬜⬜⬜⬜⬜⬜⬜⬜\n",
      "⬜⬜⬜⬜⬜⬜⬜⬜⬜⬜⬜⬜⬜⬜⬜⬜⬜⬜⬜⬜⬜\n",
      "⬜⬜⬜⬜⬜⬜⬜⬜⬜⬜⬜⬜⬜⬜⬜⬜⬜⬜⬜⬜⬜\n",
      "⬜⬜⬜⬜⬜⬜⬜⬜⬜⬜⬜⬜⬜⬜⬜⬜⬜⬜⬜⬜⬜\n",
      "⬜⬜⬜⬜⬜⬜⬜⬜⬜⬜⬜⬜⬜⬜⬜⬜⬜⬜⬜⬜⬜\n",
      "⬜⬜⬜⬜⬜⬜⬜⬜⬜⬜⬜⬜⬜⬜⬜⬜⬜⬜⬜⬜⬜\n"
     ]
    }
   ],
   "source": [
    "# A nicer view of the world, without commas and brackets\n",
    "for row in world:\n",
    "    print(\"\".join(row))"
   ]
  },
  {
   "cell_type": "markdown",
   "metadata": {},
   "source": [
    "## Robot\n",
    "\n",
    "Our robot '🤖' starts at the bottom left and can either move up, down, left, or right. It's looking for the '❤️' in the world. "
   ]
  },
  {
   "cell_type": "code",
   "execution_count": 3,
   "metadata": {},
   "outputs": [],
   "source": [
    "MOVES = [(-1,0), (0,1), (1,0), (0,-1)] # Up Right Down Left"
   ]
  },
  {
   "cell_type": "code",
   "execution_count": 4,
   "metadata": {},
   "outputs": [],
   "source": [
    "start = (len(world)-1, 0)"
   ]
  },
  {
   "cell_type": "code",
   "execution_count": 5,
   "metadata": {},
   "outputs": [],
   "source": [
    "goal = (0, len(world)-1)"
   ]
  },
  {
   "cell_type": "markdown",
   "metadata": {},
   "source": [
    "## Other Agents\n",
    "\n",
    "There are four other agents in the world: '🚎', '🚎', '🚎', and '🚎'."
   ]
  },
  {
   "cell_type": "code",
   "execution_count": 6,
   "metadata": {},
   "outputs": [],
   "source": [
    "# Update the world with this information\n",
    "world[start[0]][start[1]] = '🤖'\n",
    "world[start[0]][start[1]+2] = '🚎'\n",
    "world[start[0]][start[1]+4] = '🚎'\n",
    "world[start[0]][start[1]+6] = '🚎'\n",
    "world[start[0]][start[1]+8] = '🚎'\n",
    "world[goal[0]][goal[1]] = '❤️'"
   ]
  },
  {
   "cell_type": "code",
   "execution_count": 7,
   "metadata": {},
   "outputs": [
    {
     "name": "stdout",
     "output_type": "stream",
     "text": [
      "⬜⬜⬜⬜⬜⬜⬜⬜⬜⬜⬜⬜⬜⬜⬜⬜⬜⬜⬜⬜❤️\n",
      "⬜⬜⬜⬜⬜⬜⬜⬜⬜⬜⬜⬜⬜⬜⬜⬜⬜⬜⬜⬜⬜\n",
      "⬜⬜⬜⬜⬜⬜⬜⬜⬜⬜⬜⬜⬜⬜⬜⬜⬜⬜⬜⬜⬜\n",
      "⬜⬜⬜⬜⬜⬜⬜⬜⬜⬜⬜⬜⬜⬜⬜⬜⬜⬜⬜⬜⬜\n",
      "⬜⬜⬜⬜⬜⬜⬜⬜⬜⬜⬜⬜⬜⬜⬜⬜⬜⬜⬜⬜⬜\n",
      "⬜⬜⬜⬜⬜⬜⬜⬜⬜⬜⬜⬜⬜⬜⬜⬜⬜⬜⬜⬜⬜\n",
      "⬜⬜⬜⬜⬜⬜⬜⬜⬜⬜⬜⬜⬜⬜⬜⬜⬜⬜⬜⬜⬜\n",
      "⬜⬜⬜⬜⬜⬜⬜⬜⬜⬜⬜⬜⬜⬜⬜⬜⬜⬜⬜⬜⬜\n",
      "⬜⬜⬜⬜⬜⬜⬜⬜⬜⬜⬜⬜⬜⬜⬜⬜⬜⬜⬜⬜⬜\n",
      "⬜⬜⬜⬜⬜⬜⬜⬜⬜⬛⬛⬛⬜⬜⬜⬜⬜⬜⬜⬜⬜\n",
      "⬜⬜⬜⬜⬜⬜⬜⬜⬜⬛⬛⬛⬜⬜⬜⬜⬜⬜⬜⬜⬜\n",
      "⬜⬜⬜⬜⬜⬜⬜⬜⬜⬛⬛⬛⬜⬜⬜⬜⬜⬜⬜⬜⬜\n",
      "⬜⬜⬜⬜⬜⬜⬜⬜⬜⬜⬜⬜⬜⬜⬜⬜⬜⬜⬜⬜⬜\n",
      "⬜⬜⬜⬜⬜⬜⬜⬜⬜⬜⬜⬜⬜⬜⬜⬜⬜⬜⬜⬜⬜\n",
      "⬜⬜⬜⬜⬜⬜⬜⬜⬜⬜⬜⬜⬜⬜⬜⬜⬜⬜⬜⬜⬜\n",
      "⬜⬜⬜⬜⬜⬜⬜⬜⬜⬜⬜⬜⬜⬜⬜⬜⬜⬜⬜⬜⬜\n",
      "⬜⬜⬜⬜⬜⬜⬜⬜⬜⬜⬜⬜⬜⬜⬜⬜⬜⬜⬜⬜⬜\n",
      "⬜⬜⬜⬜⬜⬜⬜⬜⬜⬜⬜⬜⬜⬜⬜⬜⬜⬜⬜⬜⬜\n",
      "⬜⬜⬜⬜⬜⬜⬜⬜⬜⬜⬜⬜⬜⬜⬜⬜⬜⬜⬜⬜⬜\n",
      "⬜⬜⬜⬜⬜⬜⬜⬜⬜⬜⬜⬜⬜⬜⬜⬜⬜⬜⬜⬜⬜\n",
      "🤖⬜🚎⬜🚎⬜🚎⬜🚎⬜⬜⬜⬜⬜⬜⬜⬜⬜⬜⬜⬜\n"
     ]
    }
   ],
   "source": [
    "# A nicer view of the world, without commas and brackets\n",
    "for row in world:\n",
    "    print(\"\".join(row))"
   ]
  },
  {
   "cell_type": "markdown",
   "metadata": {
    "jp-MarkdownHeadingCollapsed": true
   },
   "source": [
    "## Problem #1\n",
    "\n",
    "\n",
    "'🤖' is your robot from Assignment #1 and uses the A$^*$ search function to find the optimal path to goal. Each '🚎' has no such capability; all it can do is swarm. Each '🚎' uses Boids Rules (repulsion and attraction only) with another '🚎' and '🤖'. Implement this multiagent system consisting of an intelligent '🤖' robot and four '🚎' agents. \n",
    "\n",
    "* Our A$^*$ robot '🤖' does not use Boids Rule, but is the de-facto leader of the swarm since the '🚎' agents swarm with it. \n",
    "\n",
    "* Print out the resulting view of the world ('🤖', '🚎', '⬛', and '❤️' icons) **for each step** '🤖' takes on its way to '❤️'. (Assignment #1 only asked for the final output. This assignment asks for a print of the world after each step taken by '🤖'.)\n",
    "\n",
    "* Use a repulsion range of 2 and a suitable attraction range that keeps the swarm together.\n",
    "\n",
    "* '🚎' shouldn't leave the world\n",
    "\n",
    "* '🚎' locations may need to be rounded when placed on the world for printing"
   ]
  },
  {
   "cell_type": "code",
   "execution_count": 8,
   "metadata": {},
   "outputs": [],
   "source": [
    "from copy import deepcopy\n",
    "from collections import deque\n",
    "import math\n",
    "import queue\n",
    "\n",
    "# Constants\n",
    "COORDS = 0\n",
    "PARENT = 1\n",
    "UP_CHILD = 2\n",
    "RIGHT_CHILD = 3\n",
    "DOWN_CHILD = 4\n",
    "LEFT_CHILD = 5\n",
    "ELEMENT = 6 # ⬛, ⬜, 🟨, 🟩, 🤖, or ❤️\n",
    "SLD = 7 # sld to goal\n",
    "\n",
    "AGENT_1_START = (start[0], start[1]+2)\n",
    "AGENT_2_START = (start[0], start[1]+4)\n",
    "AGENT_3_START = (start[0], start[1]+6)\n",
    "AGENT_4_START = (start[0], start[1]+8)\n",
    "\n",
    "REPULSIVE_RANGE = 2\n",
    "ATTRACTIVE_RANGE = 5 # try 6 too"
   ]
  },
  {
   "cell_type": "markdown",
   "metadata": {},
   "source": [
    "<a id=\"Agent\"></a>\n",
    "# Agent\n",
    "\n",
    "The `Agent` class represents an agent in the game world, defined by its character, number (acting as a unique identifier), and position. Each agent has a starting position and can be identified by its character symbol and number.\n",
    "\n",
    "### Parameters:\n",
    "* **character** `str`: The character symbol representing the agent (e.g., 'A', 'B', etc.).\n",
    "* **number** `int`: A unique identifier for the agent.\n",
    "* **position** `Tuple[int, int]`: The initial position of the agent on the game board, represented as coordinates (row, column).\n",
    "\n",
    "### Attributes:\n",
    "* **character** `str`: The symbol representing the agent in the game world.\n",
    "* **number** `int`: A unique identifier for the agent, used to differentiate between multiple agents.\n",
    "* **position** `Tuple[int, int]`: The current position of the agent in the game world, stored as coordinates.\n",
    "\n",
    "### Methods:\n",
    "\n",
    "---\n",
    "\n",
    "<a id=\"agent_constructor\"></a>\n",
    "### `__init__(character, number, position)`\n",
    "\n",
    "Initializes the attributes of the `Agent` class, setting the agent's character, number, and initial position.\n",
    "\n",
    "* **character** `str`: The character representing the agent (e.g., 'A', 'B', etc.).\n",
    "* **number** `int`: A unique identifier for the agent.\n",
    "* **position** `Tuple[int, int]`: The initial position of the agent on the game board.\n",
    "\n",
    "**returns** None.\n",
    "\n",
    "---\n",
    "\n",
    "This class does not have any additional public methods.\n"
   ]
  },
  {
   "cell_type": "code",
   "execution_count": 9,
   "metadata": {},
   "outputs": [],
   "source": [
    "class Agent:\n",
    "    \n",
    "    def __init__(self, character, number, position):\n",
    "        self.character = character\n",
    "        self.number = number\n",
    "        self.position = position"
   ]
  },
  {
   "cell_type": "markdown",
   "metadata": {},
   "source": [
    "<a id=\"Snapshot\"></a>\n",
    "# Snapshot\n",
    "\n",
    "The `Snapshot` class represents a snapshot of the game world, including the positions of agents and the state of the world grid. It manages agent movements, checks for out-of-bounds conditions, and prints the current state of the game world.\n",
    "\n",
    "### Parameters:\n",
    "* **world** `List[List[str]]`: The 2D grid representing the game world. Each cell contains an element indicating the environment (e.g., empty space, walls, or agents).\n",
    "* **agents** `List[Agent]`: A list of agent objects that are part of the snapshot. The first agent in the list is considered the leader.\n",
    "\n",
    "### Attributes:\n",
    "* **world** `List[List[str]]`: The 2D grid of the game world, updated based on agent movements.\n",
    "* **agents** `List[Agent]`: A list of agent objects, each representing an agent in the game.\n",
    "* **leader** `Agent`: The leading agent, which is always the first agent in the `agents` list.\n",
    "\n",
    "### Methods:\n",
    "\n",
    "---\n",
    "\n",
    "<a id=\"snapshot_constructor\"></a>\n",
    "### `__init__(world, agents)`\n",
    "\n",
    "Initializes the snapshot with the given world and agents. The first agent in the agents list is set as the leader.\n",
    "\n",
    "* **world** `List[List[str]]`: The 2D grid representing the world.\n",
    "* **agents** `List[Agent]`: The list of agents in the game.\n",
    "\n",
    "**returns** None.\n",
    "\n",
    "---\n",
    "\n",
    "<a id=\"out_of_bounds\"></a>\n",
    "### `__out_of_bounds(coordinates)`\n",
    "\n",
    "Checks whether the given coordinates are out of bounds in the game world.\n",
    "\n",
    "* **coordinates** `Tuple[int, int]`: The coordinates to check.\n",
    "\n",
    "**returns** `bool`: True if the coordinates are outside the bounds of the world grid, otherwise False.\n",
    "\n",
    "---\n",
    "\n",
    "<a id=\"insert_agents\"></a>\n",
    "### `insert_agents(agent_positions)`\n",
    "\n",
    "Updates the positions of all agents based on the provided list of positions.\n",
    "\n",
    "* **agent_positions** `List[Tuple[int, int]]`: A list of new positions for the agents. The position at index `i` corresponds to the agent at index `i` in the `agents` list.\n",
    "\n",
    "**returns** None.\n",
    "\n",
    "---\n",
    "\n",
    "<a id=\"make_move\"></a>\n",
    "### `make_move(curr_position, force_vector)`\n",
    "\n",
    "Calculates a new position for an agent by applying a force vector to its current position. If the new position is out of bounds, the agent remains in its current position.\n",
    "\n",
    "* **curr_position** `Tuple[int, int]`: The agent's current position.\n",
    "* **force_vector** `Tuple[int, int]`: The vector to apply to the agent's position.\n",
    "\n",
    "**returns** `Tuple[int, int]`: The new position of the agent. If the new position is out of bounds, returns the current position.\n",
    "\n",
    "---\n",
    "\n",
    "<a id=\"print_world\"></a>\n",
    "### `print_world()`\n",
    "\n",
    "Prints the current state of the world, updating the grid with the positions of all agents. Non-leader agents' positions are rounded and inserted into the world grid for display.\n",
    "\n",
    "**returns** None.\n"
   ]
  },
  {
   "cell_type": "code",
   "execution_count": 10,
   "metadata": {},
   "outputs": [],
   "source": [
    "class Snapshot:\n",
    "    \n",
    "    def __init__(self, world, agents):\n",
    "        self.world = world\n",
    "        self.agents = agents\n",
    "        self.leader = self.agents[0]\n",
    "        \n",
    "    def __out_of_bounds(self, coordinates):\n",
    "        x = coordinates[0]\n",
    "        y = coordinates[1]\n",
    "        return (x < 0 or x >= len(self.world)) or (y < 0 or y >= len(self.world[0]))\n",
    "        \n",
    "    def insert_agents(self, agent_positions):\n",
    "        for i in range(len(agent_positions)):\n",
    "            self.agents[i].position = agent_positions[i]\n",
    "            \n",
    "    def make_move(self, curr_position, force_vector):\n",
    "        new_position = vector_addition(curr_position, force_vector)\n",
    "        rounded_position = vector_rounding(new_position)\n",
    "        if self.__out_of_bounds(rounded_position):\n",
    "            return curr_position\n",
    "        return new_position\n",
    "        \n",
    "    def print_world(self):\n",
    "        for agent in self.agents:\n",
    "            if not agent == self.leader:\n",
    "                rounded_position = vector_rounding(agent.position)\n",
    "                self.world[int(rounded_position[0])][int(rounded_position[1])] = agent.character\n",
    "        for row in self.world:\n",
    "            print(\"\".join(row))    "
   ]
  },
  {
   "cell_type": "markdown",
   "metadata": {},
   "source": [
    "<a id=\"vector_rounding\"></a>\n",
    "## vector_rounding \n",
    "\n",
    "This function rounds the elements of a vector.\n",
    "\n",
    "* **arg_1** vec: vector to be rounded\n",
    "\n",
    "**returns** \n",
    "\n",
    "* **sld** Tuple: the resultant vector"
   ]
  },
  {
   "cell_type": "code",
   "execution_count": 11,
   "metadata": {},
   "outputs": [],
   "source": [
    "def vector_rounding(vec):\n",
    "    return (int(round(vec[0], 0)), int(round(vec[1],0)))"
   ]
  },
  {
   "cell_type": "markdown",
   "metadata": {},
   "source": [
    "<a id=\"vector_addition\"></a>\n",
    "## vector_addition \n",
    "\n",
    "This function performs vector addition on two vectors.\n",
    "\n",
    "* **arg_1** vec_1: first vector \n",
    "* **arg_2** vec_2: second vector\n",
    "\n",
    "**returns** \n",
    "\n",
    "* **sld** Tuple: the resultant vector"
   ]
  },
  {
   "cell_type": "code",
   "execution_count": 12,
   "metadata": {},
   "outputs": [],
   "source": [
    "def vector_addition(vec_1, vec_2):\n",
    "    return (vec_1[0] + vec_2[0], vec_1[1] + vec_2[1])"
   ]
  },
  {
   "cell_type": "markdown",
   "metadata": {},
   "source": [
    "<a id=\"vector_subtraction\"></a>\n",
    "## vector_subtraction \n",
    "\n",
    "This function performs vector subtraction on two vectors.\n",
    "\n",
    "* **arg_1** vec_1: first vector \n",
    "* **arg_2** vec_2: second vector\n",
    "\n",
    "**returns** \n",
    "\n",
    "* **sld** Tuple: the resultant vector"
   ]
  },
  {
   "cell_type": "code",
   "execution_count": 13,
   "metadata": {},
   "outputs": [],
   "source": [
    "def vector_subtraction(vec_1, vec_2):\n",
    "    return (vec_1[0] - vec_2[0], vec_1[1] - vec_2[1])"
   ]
  },
  {
   "cell_type": "markdown",
   "metadata": {},
   "source": [
    "<a id=\"scaler_division\"></a>\n",
    "## scaler_division \n",
    "\n",
    "This function performs scaler division on a vector.\n",
    "\n",
    "* **arg_1** vec: vector \n",
    "* **arg_2** divisor: scaler divisor \n",
    "\n",
    "**returns** \n",
    "\n",
    "* **sld** Tuple: the resultant vector"
   ]
  },
  {
   "cell_type": "code",
   "execution_count": 14,
   "metadata": {},
   "outputs": [],
   "source": [
    "def scaler_division(vec, divisor):\n",
    "    return (vec[0] / divisor, vec[1] / divisor) if not divisor == 0 else (0,0)"
   ]
  },
  {
   "cell_type": "markdown",
   "metadata": {},
   "source": [
    "<a id=\"scaler_multiplication\"></a>\n",
    "## scaler_multiplication \n",
    "\n",
    "This function performs scaler multiplication on a vector.\n",
    "\n",
    "* **arg_1** vec: vector \n",
    "* **arg_2** multiplier: scaler multiplier \n",
    "\n",
    "**returns** \n",
    "\n",
    "* **sld** Tuple: the resultant vector"
   ]
  },
  {
   "cell_type": "code",
   "execution_count": 15,
   "metadata": {},
   "outputs": [],
   "source": [
    "def scaler_multiplication(vec, multiplier):\n",
    "    return (vec[0] * multiplier, vec[1] * multiplier)"
   ]
  },
  {
   "cell_type": "markdown",
   "metadata": {},
   "source": [
    "<a id=\"magnitude\"></a>\n",
    "## magnitude \n",
    "\n",
    "This function finds the magnitude of a vector.\n",
    "\n",
    "* **arg_1** vec: vector in question\n",
    "\n",
    "**returns** \n",
    "\n",
    "* **sld** num: the vector's magnitude"
   ]
  },
  {
   "cell_type": "code",
   "execution_count": 16,
   "metadata": {},
   "outputs": [],
   "source": [
    "def magnitude(vec):\n",
    "    return math.sqrt(vec[0]**2 + vec[1]**2)"
   ]
  },
  {
   "cell_type": "markdown",
   "metadata": {},
   "source": [
    "<a id=\"get_sld\"></a>\n",
    "## get_sld \n",
    "\n",
    "This function finds the straightline distance between two positions using distance formula.\n",
    "\n",
    "* **arg_1** pos_1: first position \n",
    "* **arg_2** pos_2: second position\n",
    "\n",
    "**returns** \n",
    "\n",
    "* **sld** num: a decimal number that is the straightline distance between positions 1 and 2"
   ]
  },
  {
   "cell_type": "code",
   "execution_count": 17,
   "metadata": {},
   "outputs": [],
   "source": [
    "def get_sld(pos_1, pos_2):\n",
    "    return math.sqrt((pos_2[0] - pos_1[0]) ** 2 + (pos_2[1] - pos_1[1]) ** 2)"
   ]
  },
  {
   "cell_type": "markdown",
   "metadata": {},
   "source": [
    "<a id=\"initialize_nodes\"></a>\n",
    "## initialize_nodes\n",
    "\n",
    "This function creates nodes (with default properties) dictionary from a world (list).\n",
    "\n",
    "* **arg_1** nodes: nodes dictionary to be updated\n",
    "* **arg_2** goal: goal used to calculate straight-line distance\n",
    "* **arg_3** world: world to create nodes from"
   ]
  },
  {
   "cell_type": "code",
   "execution_count": 18,
   "metadata": {},
   "outputs": [],
   "source": [
    "def initialize_nodes(nodes, goal, world):\n",
    "    for row in range(len(world)):\n",
    "        for col in range(len(world)): \n",
    "            node = (row, col)\n",
    "            nodes[node] = [node, None, None, None, None, None, world[row][col], get_sld(node, goal)]"
   ]
  },
  {
   "cell_type": "markdown",
   "metadata": {},
   "source": [
    "<a id=\"initialize_explored\"></a>\n",
    "## initialize_explored\n",
    "\n",
    "This function creates a map of explored nodes, initializing all nodes to not explored (False). \n",
    "\n",
    "* **arg_1** explored: explored dictionary to be updated\n",
    "* **arg_2** world: world to create nodes from"
   ]
  },
  {
   "cell_type": "code",
   "execution_count": 19,
   "metadata": {},
   "outputs": [],
   "source": [
    "def initialize_explored(explored, world):\n",
    "    for row in range(len(world)):\n",
    "        for col in range(len(world)): \n",
    "            explored[(row, col)] = False"
   ]
  },
  {
   "cell_type": "markdown",
   "metadata": {},
   "source": [
    "<a id=\"translate_world\"></a>\n",
    "## translate_world\n",
    "\n",
    "This function creates a new world (2D array) from nodes dictionary info.\n",
    "\n",
    "* **arg_1** nodes: nodes to be translated into world\n",
    "* **arg_2** world: new world  "
   ]
  },
  {
   "cell_type": "code",
   "execution_count": 20,
   "metadata": {},
   "outputs": [],
   "source": [
    "def translate_world(nodes, world):\n",
    "    new_world = [ [0]*len(world) for i in range(len(world))]\n",
    "    for row in range(len(world)):\n",
    "        for col in range(len(world)): \n",
    "            new_world[row][col] = nodes[(row, col)][ELEMENT]\n",
    "    return new_world"
   ]
  },
  {
   "cell_type": "markdown",
   "metadata": {},
   "source": [
    "<a id=\"create_snapshots\"></a>\n",
    "## create_snapshots\n",
    "\n",
    "This function traverses the path back from the goal to the start via parent nodes property.\n",
    "\n",
    "* **arg_1** start: starting point of robot\n",
    "* **arg_2** goal: goal of search algorithm \n",
    "* **arg_3** nodes: nodes within world  "
   ]
  },
  {
   "cell_type": "code",
   "execution_count": 21,
   "metadata": {},
   "outputs": [],
   "source": [
    "def create_snapshots(start, goal, nodes, world):\n",
    "    nodes[start][ELEMENT] = '⬜'\n",
    "    curr_node = nodes[goal][COORDS]\n",
    "    snapshots = deque()\n",
    "    while not curr_node == None:\n",
    "        nodes[curr_node][ELEMENT] = '🤖'\n",
    "        snapshots.appendleft(Snapshot(translate_world(nodes, world), [Agent('🤖', 0, nodes[curr_node][COORDS]), Agent('🚎', 1, None), Agent('🚎', 2, None), Agent('🚎', 3, None), Agent('🚎', 4, None)]))\n",
    "        nodes[curr_node][ELEMENT] = '⬜'\n",
    "        curr_node = nodes[curr_node][PARENT]\n",
    "    return snapshots"
   ]
  },
  {
   "cell_type": "markdown",
   "metadata": {},
   "source": [
    "<a id=\"get_up_child\"></a>\n",
    "## get_up_child \n",
    "\n",
    "This function gets the upper child of a node in the world.\n",
    "\n",
    "* **arg_1** node: node to get upper child of\n",
    "\n",
    "**returns** \n",
    "\n",
    "* **up_child** node: the upper child of node"
   ]
  },
  {
   "cell_type": "code",
   "execution_count": 22,
   "metadata": {},
   "outputs": [],
   "source": [
    "def get_up_child(node):\n",
    "    ROW = 0\n",
    "    COL = 1\n",
    "    if node[COORDS][ROW] == 0:\n",
    "        return None\n",
    "    return (node[COORDS][ROW] - 1, node[COORDS][COL])"
   ]
  },
  {
   "cell_type": "markdown",
   "metadata": {},
   "source": [
    "<a id=\"get_right_child\"></a>\n",
    "## get_right_child \n",
    "\n",
    "This function gets the right child of a node in the world.\n",
    "\n",
    "* **arg_1** node: node to get right child of\n",
    "* **arg_2** world: world to grab dimensions of\n",
    "\n",
    "**returns** \n",
    "\n",
    "* **right_child** node: the right child of node"
   ]
  },
  {
   "cell_type": "code",
   "execution_count": 23,
   "metadata": {},
   "outputs": [],
   "source": [
    "def get_right_child(node, world):\n",
    "    ROW = 0\n",
    "    COL = 1\n",
    "    if node[COORDS][COL] == len(world[ROW]) - 1:\n",
    "        return None\n",
    "    return (node[COORDS][ROW], node[COORDS][COL] + 1)"
   ]
  },
  {
   "cell_type": "markdown",
   "metadata": {},
   "source": [
    "<a id=\"get_down_child\"></a>\n",
    "## get_down_child \n",
    "\n",
    "This function gets the down child of a node in the world.\n",
    "\n",
    "* **arg_1** node: node to get down child of\n",
    "* **arg_2** world: world to grab dimensions of\n",
    "\n",
    "**returns** \n",
    "\n",
    "* **down_child** node: the down child of node"
   ]
  },
  {
   "cell_type": "code",
   "execution_count": 24,
   "metadata": {},
   "outputs": [],
   "source": [
    "def get_down_child(node, world):\n",
    "    ROW = 0\n",
    "    COL = 1\n",
    "    if node[COORDS][ROW] == len(world) - 1:\n",
    "        return None\n",
    "    return (node[COORDS][ROW] + 1, node[COORDS][COL])"
   ]
  },
  {
   "cell_type": "markdown",
   "metadata": {},
   "source": [
    "<a id=\"get_left_child\"></a>\n",
    "## get_left_child \n",
    "\n",
    "This function gets the left child of a node in the world.\n",
    "\n",
    "* **arg_1** node: node to get left child of\n",
    "\n",
    "**returns** \n",
    "\n",
    "* **left_child** node: the left child of node"
   ]
  },
  {
   "cell_type": "code",
   "execution_count": 25,
   "metadata": {},
   "outputs": [],
   "source": [
    "def get_left_child(node):\n",
    "    ROW = 0\n",
    "    COL = 1\n",
    "    if node[COORDS][COL] == 0:\n",
    "        return None\n",
    "    return (node[COORDS][ROW], node[COORDS][COL] - 1)"
   ]
  },
  {
   "cell_type": "markdown",
   "metadata": {},
   "source": [
    "<a id=\"handle_up_child\"></a>\n",
    "## handle_up_child\n",
    "\n",
    "This function handles operations on the up child of a node when visited.\n",
    "\n",
    "* **arg_1** nodes: dictionary holding all nodes in the world \n",
    "* **arg_2** node: parent node of up child in question\n",
    "* **arg_3** explored: dictionary holding explored status of nodes\n",
    "* **arg_4** frontier: data structure holding nodes to be checked\n",
    "* **arg_5** timestamp: counter to ensure FIFO for priority queue"
   ]
  },
  {
   "cell_type": "code",
   "execution_count": 26,
   "metadata": {},
   "outputs": [],
   "source": [
    "def handle_up_child(nodes, node, explored, frontier, timestamp=0):\n",
    "    up_child = get_up_child(nodes[node])\n",
    "    if not up_child == None:\n",
    "        if not nodes[up_child][ELEMENT] == '⬛' and not explored[up_child]:\n",
    "            nodes[node][UP_CHILD] = up_child\n",
    "            nodes[up_child][PARENT] = node\n",
    "            frontier.put((nodes[up_child][SLD], (timestamp, up_child)))\n",
    "            explored[up_child] = True"
   ]
  },
  {
   "cell_type": "markdown",
   "metadata": {},
   "source": [
    "<a id=\"handle_right_child\"></a>\n",
    "## handle_right_child\n",
    "\n",
    "This function handles operations on the right child of a node when visited.\n",
    "\n",
    "* **arg_1** nodes: dictionary holding all nodes in the world \n",
    "* **arg_2** node: parent node of right child in question\n",
    "* **arg_3** explored: dictionary holding explored status of nodes\n",
    "* **arg_4** frontier: data structure holding nodes to be checked\n",
    "* **arg_5** timestamp: counter to ensure FIFO for priority queue"
   ]
  },
  {
   "cell_type": "code",
   "execution_count": 27,
   "metadata": {},
   "outputs": [],
   "source": [
    "def handle_right_child(nodes, node, explored, frontier, timestamp=0):\n",
    "    right_child = get_right_child(nodes[node], world)\n",
    "    if not right_child == None:\n",
    "        if not nodes[right_child][ELEMENT] == '⬛' and not explored[right_child]:\n",
    "            nodes[node][RIGHT_CHILD] = right_child\n",
    "            nodes[right_child][PARENT] = node\n",
    "            frontier.put((nodes[right_child][SLD], (timestamp, right_child)))\n",
    "            explored[right_child] = True"
   ]
  },
  {
   "cell_type": "markdown",
   "metadata": {},
   "source": [
    "<a id=\"handle_down_child\"></a>\n",
    "## handle_down_child\n",
    "\n",
    "This function handles operations on the down child of a node when visited.\n",
    "\n",
    "* **arg_1** nodes: dictionary holding all nodes in the world \n",
    "* **arg_2** node: parent node of down child in question\n",
    "* **arg_3** explored: dictionary holding explored status of nodes\n",
    "* **arg_4** frontier: data structure holding nodes to be checked\n",
    "* **arg_5** timestamp: counter to ensure FIFO for priority queue"
   ]
  },
  {
   "cell_type": "code",
   "execution_count": 28,
   "metadata": {},
   "outputs": [],
   "source": [
    "def handle_down_child(nodes, node, explored, frontier, timestamp=0):\n",
    "    down_child = get_down_child(nodes[node], world)\n",
    "    if not down_child == None:\n",
    "        if not nodes[down_child][ELEMENT] == '⬛' and not explored[down_child]:\n",
    "            nodes[node][DOWN_CHILD] = down_child\n",
    "            nodes[down_child][PARENT] = node\n",
    "            frontier.put((nodes[down_child][SLD], (timestamp, down_child)))\n",
    "            explored[down_child] = True"
   ]
  },
  {
   "cell_type": "markdown",
   "metadata": {},
   "source": [
    "<a id=\"handle_left_child\"></a>\n",
    "## handle_left_child\n",
    "\n",
    "This function handles operations on the left child of a node when visited.\n",
    "\n",
    "* **arg_1** nodes: dictionary holding all nodes in the world \n",
    "* **arg_2** node: parent node of left child in question\n",
    "* **arg_3** explored: dictionary holding explored status of nodes\n",
    "* **arg_4** frontier: data structure holding nodes to be checked\n",
    "* **arg_5** timestamp: counter to ensure FIFO for priority queue"
   ]
  },
  {
   "cell_type": "code",
   "execution_count": 29,
   "metadata": {},
   "outputs": [],
   "source": [
    "def handle_left_child(nodes, node, explored, frontier, timestamp=0):\n",
    "    left_child = get_left_child(nodes[node])\n",
    "    if not left_child == None:\n",
    "        if not nodes[left_child][ELEMENT] == '⬛' and not explored[left_child]:\n",
    "            nodes[node][LEFT_CHILD] = left_child\n",
    "            nodes[left_child][PARENT] = node\n",
    "            frontier.put((nodes[left_child][SLD], (timestamp, left_child)))\n",
    "            explored[left_child] = True"
   ]
  },
  {
   "cell_type": "markdown",
   "metadata": {},
   "source": [
    "<a id=\"initialize_search\"></a>\n",
    "## initialize_search\n",
    "\n",
    "This function initializes variables needed for searching graph.\n",
    "\n",
    "* **arg_1** nodes: dictionary holding all nodes in the world \n",
    "* **arg_2** explored: dictionary holding explored status of nodes\n",
    "* **arg_3** frontier: data structure holding nodes to be checked\n",
    "* **arg_4** start: start node for robot spawn\n",
    "* **arg_5** goal: goal to serach for by robot\n",
    "* **arg_6** world: world in which robot and goal dwell\n",
    "* **arg_7** timestamp: counter to ensure FIFO for priority queue"
   ]
  },
  {
   "cell_type": "code",
   "execution_count": 30,
   "metadata": {},
   "outputs": [],
   "source": [
    "def initialize_search(nodes, explored, frontier, start, goal, world, timestamp=0):\n",
    "    initialize_nodes(nodes, goal, world)\n",
    "    initialize_explored(explored, world)\n",
    "    explored[start] = True\n",
    "    frontier.put((nodes[start][SLD], (timestamp, start)))"
   ]
  },
  {
   "cell_type": "markdown",
   "metadata": {},
   "source": [
    "<a id=\"a_star_search\"></a>\n",
    "## a_star_search\n",
    "\n",
    "This function executes a variant of Breadth-First Search, utilizing a PriorityQueue to handle all frontier operations. A PriorityQueue is used because it is a FIFO data structure and the A* algorithm requires that children nodes be visited in the order of increasing straightline distance from the goal, using an accpetable heuristic that allows it to more-efficiently look for goal. Nodes are popped from the Queue such that the move priority (Up, Right, Down, & Left) is preserved.\n",
    "\n",
    "* **world**: the search area\n",
    "* **start**: the starting location of the robot\n",
    "* **goal**: the goal location in the search area\n",
    "\n",
    "**returns** None (but prints out a nice view of the world and replaces appropriate cells using '🟨' and '🟩')."
   ]
  },
  {
   "cell_type": "code",
   "execution_count": 31,
   "metadata": {},
   "outputs": [],
   "source": [
    "def a_star_search(world, start, goal):\n",
    "    nodes, explored, frontier, timestamp, NODE = {}, {}, queue.PriorityQueue(), 0, 1\n",
    "    initialize_search(nodes, explored, frontier, start, goal, world, timestamp)\n",
    "    timestamp = timestamp + 1\n",
    "    while not frontier.empty():\n",
    "        node = frontier.get()[1][NODE]\n",
    "        if node == goal:\n",
    "            break  \n",
    "        else:\n",
    "            handle_up_child(nodes, node, explored, frontier, timestamp)\n",
    "            timestamp = timestamp + 1\n",
    "            handle_right_child(nodes, node, explored, frontier, timestamp)\n",
    "            timestamp = timestamp + 1\n",
    "            handle_down_child(nodes, node, explored, frontier, timestamp)\n",
    "            timestamp = timestamp + 1\n",
    "            handle_left_child(nodes, node, explored, frontier, timestamp)\n",
    "            timestamp = timestamp + 1\n",
    "    return create_snapshots(start, goal, nodes, world)"
   ]
  },
  {
   "cell_type": "code",
   "execution_count": 32,
   "metadata": {
    "scrolled": true
   },
   "outputs": [],
   "source": [
    "a_star_world = deepcopy(world)\n",
    "a_star_world[AGENT_1_START[0]][AGENT_1_START[1]] = '⬜'\n",
    "a_star_world[AGENT_2_START[0]][AGENT_2_START[1]] = '⬜'\n",
    "a_star_world[AGENT_3_START[0]][AGENT_3_START[1]] = '⬜'\n",
    "a_star_world[AGENT_4_START[0]][AGENT_4_START[1]] = '⬜'\n",
    "snapshots = a_star_search(a_star_world, start, goal)"
   ]
  },
  {
   "cell_type": "markdown",
   "metadata": {},
   "source": [
    "# Simulation\n",
    "\n",
    "The `Simulation` class represents the overall simulation of agent movements over multiple snapshots. It manages the agents' positions and computes movement based on repulsive and attractive forces between agents.\n",
    "\n",
    "### Parameters:\n",
    "* **snapshots** `List[Snapshot]`: A list of snapshots, each representing the state of the world and agent positions at different points in the simulation.\n",
    "* **repulsive_range** `float`: The distance within which agents experience repulsive forces from each other, causing them to move apart.\n",
    "* **attractive_range** `float`: The distance beyond which agents experience attractive forces, causing them to move closer together.\n",
    "\n",
    "### Attributes:\n",
    "* **snapshots** `List[Snapshot]`: A list of snapshots representing the progression of the simulation over time.\n",
    "* **repulsive_range** `float`: The threshold distance for repulsive forces between agents.\n",
    "* **attractive_range** `float`: The threshold distance for attractive forces between agents.\n",
    "\n",
    "### Methods:\n",
    "\n",
    "---\n",
    "\n",
    "<a id=\"simulation_constructor\"></a>\n",
    "### `__init__(snapshots, repulsive_range, attractive_range)`\n",
    "\n",
    "Initializes the `Simulation` with the given list of snapshots and the ranges that define the repulsive and attractive forces between agents.\n",
    "\n",
    "* **snapshots** `List[Snapshot]`: The list of snapshots representing the state of the world over time.\n",
    "* **repulsive_range** `float`: The distance within which agents repel each other.\n",
    "* **attractive_range** `float`: The distance beyond which agents are attracted to each other.\n",
    "\n",
    "**returns** None.\n",
    "\n",
    "---\n",
    "\n",
    "<a id=\"run\"></a>\n",
    "### `run()`\n",
    "\n",
    "Executes the simulation by iterating through the snapshots and calculating the new positions for agents based on repulsive and attractive forces between them. For each agent, the force vector is calculated based on the distance to other agents. Agents within the repulsive range are pushed apart, while those beyond the attractive range are drawn closer.\n",
    "\n",
    "* **calculates**: New positions for each agent in each snapshot (except the leader) based on the computed force vectors.\n",
    "\n",
    "**returns** None.\n",
    "\n",
    "---\n",
    "\n",
    "<a id=\"print_results\"></a>\n",
    "### `print_results()`\n",
    "\n",
    "Prints the results of the simulation by iterating through the snapshots and displaying the world grid at each stage of the simulation. The positions of the agents are updated on the grid and displayed as part of the output.\n",
    "\n",
    "**returns** None.\n"
   ]
  },
  {
   "cell_type": "code",
   "execution_count": 33,
   "metadata": {},
   "outputs": [],
   "source": [
    "class Simulation:\n",
    "    def __init__(self, snapshots, repulsive_range, attractive_range):\n",
    "        self.snapshots = snapshots\n",
    "        self.repulsive_range = repulsive_range\n",
    "        self.attractive_range = attractive_range\n",
    "        \n",
    "    def run(self):\n",
    "        for i in range(len(snapshots)-1):\n",
    "            snapshot = snapshots[i]\n",
    "            if i == 0:\n",
    "                snapshot.insert_agents([start, AGENT_1_START, AGENT_2_START, AGENT_3_START, AGENT_4_START])\n",
    "            for j in range(len(snapshot.agents)):\n",
    "                curr_agent = snapshot.agents[j]\n",
    "                if not curr_agent == snapshot.leader:\n",
    "                    force_vector = (0,0)\n",
    "                    for other_agent in snapshot.agents:\n",
    "                        distance = get_sld(curr_agent.position, other_agent.position)\n",
    "                        displacement = vector_subtraction(curr_agent.position, other_agent.position)\n",
    "                        if distance <= REPULSIVE_RANGE:\n",
    "                            force_vector = vector_addition(force_vector, displacement)\n",
    "                        elif distance >= ATTRACTIVE_RANGE:\n",
    "                            force_vector = vector_subtraction(force_vector, displacement)\n",
    "                    unit_force_vector = scaler_division(force_vector, magnitude(force_vector))\n",
    "                    new_position = snapshot.make_move(curr_agent.position, unit_force_vector)\n",
    "                    snapshots[i+1].agents[j].position = new_position\n",
    "\n",
    "    def print_results(self):\n",
    "        for i in range(len(snapshots)):\n",
    "            print(f'Snapshot {i}:')\n",
    "            snapshots[i].print_world()\n",
    "            print('-----------------------------------')\n"
   ]
  },
  {
   "cell_type": "code",
   "execution_count": 34,
   "metadata": {},
   "outputs": [],
   "source": [
    "# simulation = Simulation(snapshots, REPULSIVE_RANGE, ATTRACTIVE_RANGE)\n",
    "# simulation.run()\n",
    "# simulation.print_results()"
   ]
  },
  {
   "cell_type": "markdown",
   "metadata": {},
   "source": [
    "# Problem #2: Game Theory\n",
    "\n",
    "We are designing an experiment where two players employ the *Best Response with Inertia* algorithm against each other."
   ]
  },
  {
   "cell_type": "markdown",
   "metadata": {},
   "source": [
    "## Best Response with Inertia Algorithm\n",
    "\n",
    "Here is the outline of the algorithm for each player:\n",
    "\n",
    "\n",
    "```\n",
    "On day zero, play a random action\n",
    "\n",
    "On day t, do one of two things:\n",
    "\n",
    "    * With high probability, play the best response to what your opponent did yesterday, or\n",
    "    * With low probability, be lazy and just do what you did yesterday.\n",
    "```"
   ]
  },
  {
   "cell_type": "markdown",
   "metadata": {},
   "source": [
    "## Game\n",
    "\n",
    "The particular 2x2 game being played is the Stag-Hunt game, with the matrix:\n",
    "\n",
    "\n",
    "|  | | |\n",
    "|---|---|---|\n",
    "|  | S | H |\n",
    "| S | 3, 3 | 0, 2 |\n",
    "| H | 2, 0 | 2, 2 |\n",
    "\n",
    "\n",
    "Player 1 (P1) is the `row` player; Player 2 (P2) is the `col` player."
   ]
  },
  {
   "cell_type": "code",
   "execution_count": 35,
   "metadata": {},
   "outputs": [],
   "source": [
    "import random\n",
    "import matplotlib.pyplot as plt"
   ]
  },
  {
   "cell_type": "code",
   "execution_count": 36,
   "metadata": {},
   "outputs": [],
   "source": [
    "# The actions available to each player. Don't modify. \n",
    "actions_P1 = ['S', 'H']\n",
    "actions_P2 = ['S', 'H']\n",
    "\n",
    "# Store the history. Don't modify. \n",
    "history_P1_action, history_P1_utility = [], []\n",
    "history_P2_action, history_P2_utility = [], []"
   ]
  },
  {
   "cell_type": "markdown",
   "metadata": {},
   "source": [
    "<a id=\"get_utility\"></a>\n",
    "## get_utility\n",
    "\n",
    "This function takes a joint action tuple and returns the utility for each player, packaged as a tuple. It is hardcoded for the Stag-Hunt game described above.\n",
    "\n",
    "* **a** Tuple: joint action. a could be ('S', 'H'), for instance, which would signify that P1 has chosen to do 'S' and P2 has chosen to do 'H'.\n",
    "\n",
    "\n",
    "**returns** \n",
    "\n",
    "* **utility** Tuple: the utility for each player as (utility of P1, utility of P2). For example, if the input is ('S', 'H'), the returned value is (0, 2) -- 0 for P1, 2 for P2. "
   ]
  },
  {
   "cell_type": "code",
   "execution_count": 37,
   "metadata": {},
   "outputs": [],
   "source": [
    "def get_utility(a):\n",
    "    if a[0] == 'S' and a[1] == 'S':\n",
    "        return (3, 3)\n",
    "    elif a[0] == 'S' and a[1] == 'H':\n",
    "        return (0, 2)\n",
    "    elif a[0] == 'H' and a[1] == 'S':\n",
    "        return (2, 0)\n",
    "    elif a[0] == 'H' and a[1] == 'H':\n",
    "        return (2, 2)"
   ]
  },
  {
   "cell_type": "markdown",
   "metadata": {},
   "source": [
    "<div style=\"background: lemonchiffon; margin:20px; padding: 20px;\">\n",
    "    <p>\n",
    "        TODO: Help players pick actions based on the <i>Best Response with inertia</i> algorithm described above (instead of just picking 'S' like they are now). \n",
    "    </p>\n",
    "</div>"
   ]
  },
  {
   "cell_type": "markdown",
   "metadata": {},
   "source": [
    "<a id=\"run_experiment\"></a>\n",
    "## run_experiment\n",
    "\n",
    "This functions runs an experiment where two players play the Stag-Hunt game using the Best Response with Inertia algorithm.\n",
    "\n",
    "* **num_trials** Int: The number of trials to run\n",
    "* **num_days** Int: The number of days in each trial\n",
    "* **debug** Bool: If set to True, statements are printed out\n",
    "\n",
    "\n",
    "**returns** \n",
    "\n",
    "None"
   ]
  },
  {
   "cell_type": "code",
   "execution_count": 38,
   "metadata": {},
   "outputs": [],
   "source": [
    "def run_experiment(num_trials, num_days, debug=True):\n",
    "    if debug: print(f\"Trial\\tDay\\tP1\\tP2\\n--------------------------\")\n",
    "    for trial in range(num_trials):  \n",
    "        if debug: print(f\"--------------------------\")\n",
    "        for day in range(num_days):\n",
    "            high_probability = 0.75\n",
    "            if day == 0:\n",
    "                action_P1, action_P2 = random.choice(actions_P1), random.choice(actions_P2)\n",
    "            else:\n",
    "                yesterday = (trial * num_days) + day - 1\n",
    "                action_P1 = history_P2_action[yesterday] if random.random() <= high_probability else history_P1_action[yesterday]\n",
    "                action_P2 = history_P1_action[yesterday] if random.random() <= high_probability else history_P2_action[yesterday]\n",
    "            utility_P1, utility_P2 = get_utility(tuple((action_P1, action_P2)))\n",
    "            history_P1_action.append(action_P1)\n",
    "            history_P2_action.append(action_P2)\n",
    "            history_P1_utility.append(utility_P1)\n",
    "            history_P2_utility.append(utility_P2)\n",
    "            if debug: print(f\"{trial}\\t{day}\\t{action_P1}\\t{action_P2}\")"
   ]
  },
  {
   "cell_type": "code",
   "execution_count": 39,
   "metadata": {},
   "outputs": [
    {
     "name": "stdout",
     "output_type": "stream",
     "text": [
      "Trial\tDay\tP1\tP2\n",
      "--------------------------\n",
      "--------------------------\n",
      "0\t0\tH\tS\n",
      "0\t1\tS\tH\n",
      "0\t2\tH\tS\n",
      "0\t3\tS\tS\n",
      "0\t4\tS\tS\n",
      "0\t5\tS\tS\n",
      "0\t6\tS\tS\n",
      "0\t7\tS\tS\n",
      "0\t8\tS\tS\n",
      "0\t9\tS\tS\n",
      "--------------------------\n",
      "1\t0\tH\tH\n",
      "1\t1\tH\tH\n",
      "1\t2\tH\tH\n",
      "1\t3\tH\tH\n",
      "1\t4\tH\tH\n",
      "1\t5\tH\tH\n",
      "1\t6\tH\tH\n",
      "1\t7\tH\tH\n",
      "1\t8\tH\tH\n",
      "1\t9\tH\tH\n",
      "--------------------------\n",
      "2\t0\tH\tH\n",
      "2\t1\tH\tH\n",
      "2\t2\tH\tH\n",
      "2\t3\tH\tH\n",
      "2\t4\tH\tH\n",
      "2\t5\tH\tH\n",
      "2\t6\tH\tH\n",
      "2\t7\tH\tH\n",
      "2\t8\tH\tH\n",
      "2\t9\tH\tH\n",
      "--------------------------\n",
      "3\t0\tS\tS\n",
      "3\t1\tS\tS\n",
      "3\t2\tS\tS\n",
      "3\t3\tS\tS\n",
      "3\t4\tS\tS\n",
      "3\t5\tS\tS\n",
      "3\t6\tS\tS\n",
      "3\t7\tS\tS\n",
      "3\t8\tS\tS\n",
      "3\t9\tS\tS\n",
      "--------------------------\n",
      "4\t0\tH\tS\n",
      "4\t1\tS\tS\n",
      "4\t2\tS\tS\n",
      "4\t3\tS\tS\n",
      "4\t4\tS\tS\n",
      "4\t5\tS\tS\n",
      "4\t6\tS\tS\n",
      "4\t7\tS\tS\n",
      "4\t8\tS\tS\n",
      "4\t9\tS\tS\n",
      "--------------------------\n",
      "5\t0\tH\tH\n",
      "5\t1\tH\tH\n",
      "5\t2\tH\tH\n",
      "5\t3\tH\tH\n",
      "5\t4\tH\tH\n",
      "5\t5\tH\tH\n",
      "5\t6\tH\tH\n",
      "5\t7\tH\tH\n",
      "5\t8\tH\tH\n",
      "5\t9\tH\tH\n",
      "--------------------------\n",
      "6\t0\tS\tH\n",
      "6\t1\tH\tS\n",
      "6\t2\tS\tH\n",
      "6\t3\tS\tS\n",
      "6\t4\tS\tS\n",
      "6\t5\tS\tS\n",
      "6\t6\tS\tS\n",
      "6\t7\tS\tS\n",
      "6\t8\tS\tS\n",
      "6\t9\tS\tS\n",
      "--------------------------\n",
      "7\t0\tH\tS\n",
      "7\t1\tS\tH\n",
      "7\t2\tS\tS\n",
      "7\t3\tS\tS\n",
      "7\t4\tS\tS\n",
      "7\t5\tS\tS\n",
      "7\t6\tS\tS\n",
      "7\t7\tS\tS\n",
      "7\t8\tS\tS\n",
      "7\t9\tS\tS\n",
      "--------------------------\n",
      "8\t0\tS\tS\n",
      "8\t1\tS\tS\n",
      "8\t2\tS\tS\n",
      "8\t3\tS\tS\n",
      "8\t4\tS\tS\n",
      "8\t5\tS\tS\n",
      "8\t6\tS\tS\n",
      "8\t7\tS\tS\n",
      "8\t8\tS\tS\n",
      "8\t9\tS\tS\n",
      "--------------------------\n",
      "9\t0\tH\tH\n",
      "9\t1\tH\tH\n",
      "9\t2\tH\tH\n",
      "9\t3\tH\tH\n",
      "9\t4\tH\tH\n",
      "9\t5\tH\tH\n",
      "9\t6\tH\tH\n",
      "9\t7\tH\tH\n",
      "9\t8\tH\tH\n",
      "9\t9\tH\tH\n",
      "--------------------------\n",
      "10\t0\tH\tS\n",
      "10\t1\tS\tS\n",
      "10\t2\tS\tS\n",
      "10\t3\tS\tS\n",
      "10\t4\tS\tS\n",
      "10\t5\tS\tS\n",
      "10\t6\tS\tS\n",
      "10\t7\tS\tS\n",
      "10\t8\tS\tS\n",
      "10\t9\tS\tS\n",
      "--------------------------\n",
      "11\t0\tH\tH\n",
      "11\t1\tH\tH\n",
      "11\t2\tH\tH\n",
      "11\t3\tH\tH\n",
      "11\t4\tH\tH\n",
      "11\t5\tH\tH\n",
      "11\t6\tH\tH\n",
      "11\t7\tH\tH\n",
      "11\t8\tH\tH\n",
      "11\t9\tH\tH\n",
      "--------------------------\n",
      "12\t0\tS\tH\n",
      "12\t1\tH\tS\n",
      "12\t2\tS\tH\n",
      "12\t3\tH\tS\n",
      "12\t4\tS\tH\n",
      "12\t5\tH\tS\n",
      "12\t6\tS\tS\n",
      "12\t7\tS\tS\n",
      "12\t8\tS\tS\n",
      "12\t9\tS\tS\n",
      "--------------------------\n",
      "13\t0\tH\tH\n",
      "13\t1\tH\tH\n",
      "13\t2\tH\tH\n",
      "13\t3\tH\tH\n",
      "13\t4\tH\tH\n",
      "13\t5\tH\tH\n",
      "13\t6\tH\tH\n",
      "13\t7\tH\tH\n",
      "13\t8\tH\tH\n",
      "13\t9\tH\tH\n",
      "--------------------------\n",
      "14\t0\tS\tH\n",
      "14\t1\tH\tS\n",
      "14\t2\tS\tH\n",
      "14\t3\tS\tS\n",
      "14\t4\tS\tS\n",
      "14\t5\tS\tS\n",
      "14\t6\tS\tS\n",
      "14\t7\tS\tS\n",
      "14\t8\tS\tS\n",
      "14\t9\tS\tS\n",
      "--------------------------\n",
      "15\t0\tS\tH\n",
      "15\t1\tH\tH\n",
      "15\t2\tH\tH\n",
      "15\t3\tH\tH\n",
      "15\t4\tH\tH\n",
      "15\t5\tH\tH\n",
      "15\t6\tH\tH\n",
      "15\t7\tH\tH\n",
      "15\t8\tH\tH\n",
      "15\t9\tH\tH\n",
      "--------------------------\n",
      "16\t0\tS\tS\n",
      "16\t1\tS\tS\n",
      "16\t2\tS\tS\n",
      "16\t3\tS\tS\n",
      "16\t4\tS\tS\n",
      "16\t5\tS\tS\n",
      "16\t6\tS\tS\n",
      "16\t7\tS\tS\n",
      "16\t8\tS\tS\n",
      "16\t9\tS\tS\n",
      "--------------------------\n",
      "17\t0\tS\tH\n",
      "17\t1\tH\tS\n",
      "17\t2\tS\tH\n",
      "17\t3\tH\tH\n",
      "17\t4\tH\tH\n",
      "17\t5\tH\tH\n",
      "17\t6\tH\tH\n",
      "17\t7\tH\tH\n",
      "17\t8\tH\tH\n",
      "17\t9\tH\tH\n",
      "--------------------------\n",
      "18\t0\tH\tH\n",
      "18\t1\tH\tH\n",
      "18\t2\tH\tH\n",
      "18\t3\tH\tH\n",
      "18\t4\tH\tH\n",
      "18\t5\tH\tH\n",
      "18\t6\tH\tH\n",
      "18\t7\tH\tH\n",
      "18\t8\tH\tH\n",
      "18\t9\tH\tH\n",
      "--------------------------\n",
      "19\t0\tH\tS\n",
      "19\t1\tS\tS\n",
      "19\t2\tS\tS\n",
      "19\t3\tS\tS\n",
      "19\t4\tS\tS\n",
      "19\t5\tS\tS\n",
      "19\t6\tS\tS\n",
      "19\t7\tS\tS\n",
      "19\t8\tS\tS\n",
      "19\t9\tS\tS\n"
     ]
    }
   ],
   "source": [
    "# Parameters. Don't modify. Not even debug flag. \n",
    "run_experiment(num_trials=20, num_days=10, debug=True)"
   ]
  },
  {
   "cell_type": "markdown",
   "metadata": {},
   "source": [
    "<a id=\"plot_results\"></a>\n",
    "## plot_results\n",
    "\n",
    "This functions plots the results of an experiment using a bar chart.\n",
    "\n",
    "* **history_P1_action** List[Str]: The history of Player 1's actions over the course of the experiment \n",
    "* **history_P2_action** List[Str]: The history of Player 2's actions over the course of the experiment \n",
    "\n",
    "\n",
    "**returns** \n",
    "\n",
    "None"
   ]
  },
  {
   "cell_type": "code",
   "execution_count": 40,
   "metadata": {},
   "outputs": [],
   "source": [
    "def plot_results(history_P1_action, history_P2_action):\n",
    "    labels = ['(S,S)', '(S,H)', '(H,S)', '(H,H)']\n",
    "    cell_counts = [0, 0, 0, 0]\n",
    "    for i in range(len(history_P1_action)):\n",
    "        if history_P1_action[i] == 'S' and history_P2_action[i] == 'S':\n",
    "            cell_counts[0]+=1\n",
    "        if history_P1_action[i] == 'S' and history_P2_action[i] == 'H':\n",
    "            cell_counts[1]+=1\n",
    "        if history_P1_action[i] == 'H' and history_P2_action[i] == 'S':\n",
    "            cell_counts[2]+=1\n",
    "        if history_P1_action[i] == 'H' and history_P2_action[i] == 'H':\n",
    "            cell_counts[3]+=1\n",
    "    plt.bar(labels, cell_counts)\n",
    "    plt.show()"
   ]
  },
  {
   "cell_type": "code",
   "execution_count": 41,
   "metadata": {},
   "outputs": [
    {
     "data": {
      "image/png": "[encoded data removed]",
      "text/plain": [
       "<Figure size 640x480 with 1 Axes>"
      ]
     },
     "metadata": {},
     "output_type": "display_data"
    }
   ],
   "source": [
    "# Visualize the results. Don't modify. \n",
    "plot_results(history_P1_action, history_P2_action)"
   ]
  },
  {
   "cell_type": "markdown",
   "metadata": {},
   "source": [
    "| Question | Response | \n",
    "|------|------|\n",
    "|Where do agents get spend most of their time? | Choose one (leave your choice here and remove the other two choices): \n",
    "* Roughly 50-50 between (S,S) and (H,H)"
   ]
  },
  {
   "cell_type": "markdown",
   "metadata": {},
   "source": [
    "## Before You Submit...\n",
    "\n",
    "1. Re-read the general instructions provided above, and\n",
    "2. Hit \"Kernel\"->\"Restart & Run All\"."
   ]
  }
 ],
 "metadata": {
  "kernelspec": {
   "display_name": "Python 3 (ipykernel)",
   "language": "python",
   "name": "python3"
  },
  "language_info": {
   "codemirror_mode": {
    "name": "ipython",
    "version": 3
   },
   "file_extension": ".py",
   "mimetype": "text/x-python",
   "name": "python",
   "nbconvert_exporter": "python",
   "pygments_lexer": "ipython3",
   "version": "3.9.13"
  },
  "toc": {
   "colors": {
    "hover_highlight": "#DAA520",
    "navigate_num": "#000000",
    "navigate_text": "#333333",
    "running_highlight": "#FF0000",
    "selected_highlight": "#FFD700",
    "sidebar_border": "#EEEEEE",
    "wrapper_background": "#FFFFFF"
   },
   "moveMenuLeft": true,
   "nav_menu": {
    "height": "192px",
    "width": "252px"
   },
   "navigate_menu": true,
   "number_sections": true,
   "sideBar": true,
   "threshold": 4,
   "toc_cell": false,
   "toc_section_display": "block",
   "toc_window_display": false,
   "widenNotebook": false
  }
 },
 "nbformat": 4,
 "nbformat_minor": 4
}
