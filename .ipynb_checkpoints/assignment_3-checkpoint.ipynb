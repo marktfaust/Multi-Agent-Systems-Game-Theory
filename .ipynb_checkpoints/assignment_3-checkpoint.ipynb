{
 "cells": [
  {
   "cell_type": "markdown",
   "metadata": {},
   "source": [
    "# Artificial Intelligence\n",
    "# 464/664\n",
    "# Assignment #3\n",
    "\n",
    "## General Directions for this Assignment\n",
    "\n",
    "00. We're using a Jupyter Notebook environment (tutorial available here: https://jupyter-notebook-beginner-guide.readthedocs.io/en/latest/what_is_jupyter.html),\n",
    "01. Read the entire notebook before beginning your work, \n",
    "02. Output format should be exactly as requested, \n",
    "03. Each helper function should be preceeded by documentation (Markdown cell),\n",
    "05. No comments in the code; anything worth mentioning should be included in the documentation,\n",
    "06. Keep functions to 20 lines or less (including empty lines so do not add any),\n",
    "08. Use descriptive variable names,\n",
    "09. Functions should do only one thing,\n",
    "10. Check submission deadline on Gradescope, \n",
    "11. Rename the file to Last_First_assignment_2, \n",
    "12. Submit your notebook (as .ipynb, not PDF) using Gradescope, and\n",
    "13. Do not submit any other files.\n",
    "\n",
    "\n",
    "## Directions _not_ applicable for this Assignment:\n",
    "* Do not use classes,\n",
    "* Each helper function should be followed by three assert-style unit tests.\n",
    "\n",
    "\n",
    "## Before You Submit...\n",
    "\n",
    "1. Re-read the general instructions provided above, and\n",
    "2. Hit \"Kernel\"->\"Restart & Run All\"."
   ]
  },
  {
   "cell_type": "markdown",
   "metadata": {},
   "source": [
    "# Problem #1: Multiagent Systems\n",
    "\n",
    "## The World\n",
    "\n",
    "A `List of Lists` is used to represent the world. Cells marked as '⬛' are obstacles in the world and are not traversable."
   ]
  },
  {
   "cell_type": "code",
   "execution_count": 1,
   "metadata": {},
   "outputs": [],
   "source": [
    "world = [\n",
    "['⬜','⬜','⬜','⬜','⬜','⬜','⬜','⬜','⬜','⬜','⬜','⬜','⬜','⬜','⬜','⬜','⬜','⬜','⬜','⬜','⬜'],\n",
    "['⬜','⬜','⬜','⬜','⬜','⬜','⬜','⬜','⬜','⬜','⬜','⬜','⬜','⬜','⬜','⬜','⬜','⬜','⬜','⬜','⬜'],\n",
    "['⬜','⬜','⬜','⬜','⬜','⬜','⬜','⬜','⬜','⬜','⬜','⬜','⬜','⬜','⬜','⬜','⬜','⬜','⬜','⬜','⬜'],\n",
    "['⬜','⬜','⬜','⬜','⬜','⬜','⬜','⬜','⬜','⬜','⬜','⬜','⬜','⬜','⬜','⬜','⬜','⬜','⬜','⬜','⬜'],\n",
    "['⬜','⬜','⬜','⬜','⬜','⬜','⬜','⬜','⬜','⬜','⬜','⬜','⬜','⬜','⬜','⬜','⬜','⬜','⬜','⬜','⬜'],\n",
    "['⬜','⬜','⬜','⬜','⬜','⬜','⬜','⬜','⬜','⬜','⬜','⬜','⬜','⬜','⬜','⬜','⬜','⬜','⬜','⬜','⬜'],\n",
    "['⬜','⬜','⬜','⬜','⬜','⬜','⬜','⬜','⬜','⬜','⬜','⬜','⬜','⬜','⬜','⬜','⬜','⬜','⬜','⬜','⬜'],\n",
    "['⬜','⬜','⬜','⬜','⬜','⬜','⬜','⬜','⬜','⬜','⬜','⬜','⬜','⬜','⬜','⬜','⬜','⬜','⬜','⬜','⬜'],\n",
    "['⬜','⬜','⬜','⬜','⬜','⬜','⬜','⬜','⬜','⬜','⬜','⬜','⬜','⬜','⬜','⬜','⬜','⬜','⬜','⬜','⬜'],\n",
    "['⬜','⬜','⬜','⬜','⬜','⬜','⬜','⬜','⬜','⬛','⬛','⬛','⬜','⬜','⬜','⬜','⬜','⬜','⬜','⬜','⬜'],\n",
    "['⬜','⬜','⬜','⬜','⬜','⬜','⬜','⬜','⬜','⬛','⬛','⬛','⬜','⬜','⬜','⬜','⬜','⬜','⬜','⬜','⬜'],\n",
    "['⬜','⬜','⬜','⬜','⬜','⬜','⬜','⬜','⬜','⬛','⬛','⬛','⬜','⬜','⬜','⬜','⬜','⬜','⬜','⬜','⬜'],\n",
    "['⬜','⬜','⬜','⬜','⬜','⬜','⬜','⬜','⬜','⬜','⬜','⬜','⬜','⬜','⬜','⬜','⬜','⬜','⬜','⬜','⬜'],\n",
    "['⬜','⬜','⬜','⬜','⬜','⬜','⬜','⬜','⬜','⬜','⬜','⬜','⬜','⬜','⬜','⬜','⬜','⬜','⬜','⬜','⬜'],\n",
    "['⬜','⬜','⬜','⬜','⬜','⬜','⬜','⬜','⬜','⬜','⬜','⬜','⬜','⬜','⬜','⬜','⬜','⬜','⬜','⬜','⬜'],\n",
    "['⬜','⬜','⬜','⬜','⬜','⬜','⬜','⬜','⬜','⬜','⬜','⬜','⬜','⬜','⬜','⬜','⬜','⬜','⬜','⬜','⬜'],\n",
    "['⬜','⬜','⬜','⬜','⬜','⬜','⬜','⬜','⬜','⬜','⬜','⬜','⬜','⬜','⬜','⬜','⬜','⬜','⬜','⬜','⬜'],\n",
    "['⬜','⬜','⬜','⬜','⬜','⬜','⬜','⬜','⬜','⬜','⬜','⬜','⬜','⬜','⬜','⬜','⬜','⬜','⬜','⬜','⬜'],\n",
    "['⬜','⬜','⬜','⬜','⬜','⬜','⬜','⬜','⬜','⬜','⬜','⬜','⬜','⬜','⬜','⬜','⬜','⬜','⬜','⬜','⬜'],\n",
    "['⬜','⬜','⬜','⬜','⬜','⬜','⬜','⬜','⬜','⬜','⬜','⬜','⬜','⬜','⬜','⬜','⬜','⬜','⬜','⬜','⬜'],\n",
    "['⬜','⬜','⬜','⬜','⬜','⬜','⬜','⬜','⬜','⬜','⬜','⬜','⬜','⬜','⬜','⬜','⬜','⬜','⬜','⬜','⬜']]"
   ]
  },
  {
   "cell_type": "code",
   "execution_count": 2,
   "metadata": {},
   "outputs": [
    {
     "name": "stdout",
     "output_type": "stream",
     "text": [
      "⬜⬜⬜⬜⬜⬜⬜⬜⬜⬜⬜⬜⬜⬜⬜⬜⬜⬜⬜⬜⬜\n",
      "⬜⬜⬜⬜⬜⬜⬜⬜⬜⬜⬜⬜⬜⬜⬜⬜⬜⬜⬜⬜⬜\n",
      "⬜⬜⬜⬜⬜⬜⬜⬜⬜⬜⬜⬜⬜⬜⬜⬜⬜⬜⬜⬜⬜\n",
      "⬜⬜⬜⬜⬜⬜⬜⬜⬜⬜⬜⬜⬜⬜⬜⬜⬜⬜⬜⬜⬜\n",
      "⬜⬜⬜⬜⬜⬜⬜⬜⬜⬜⬜⬜⬜⬜⬜⬜⬜⬜⬜⬜⬜\n",
      "⬜⬜⬜⬜⬜⬜⬜⬜⬜⬜⬜⬜⬜⬜⬜⬜⬜⬜⬜⬜⬜\n",
      "⬜⬜⬜⬜⬜⬜⬜⬜⬜⬜⬜⬜⬜⬜⬜⬜⬜⬜⬜⬜⬜\n",
      "⬜⬜⬜⬜⬜⬜⬜⬜⬜⬜⬜⬜⬜⬜⬜⬜⬜⬜⬜⬜⬜\n",
      "⬜⬜⬜⬜⬜⬜⬜⬜⬜⬜⬜⬜⬜⬜⬜⬜⬜⬜⬜⬜⬜\n",
      "⬜⬜⬜⬜⬜⬜⬜⬜⬜⬛⬛⬛⬜⬜⬜⬜⬜⬜⬜⬜⬜\n",
      "⬜⬜⬜⬜⬜⬜⬜⬜⬜⬛⬛⬛⬜⬜⬜⬜⬜⬜⬜⬜⬜\n",
      "⬜⬜⬜⬜⬜⬜⬜⬜⬜⬛⬛⬛⬜⬜⬜⬜⬜⬜⬜⬜⬜\n",
      "⬜⬜⬜⬜⬜⬜⬜⬜⬜⬜⬜⬜⬜⬜⬜⬜⬜⬜⬜⬜⬜\n",
      "⬜⬜⬜⬜⬜⬜⬜⬜⬜⬜⬜⬜⬜⬜⬜⬜⬜⬜⬜⬜⬜\n",
      "⬜⬜⬜⬜⬜⬜⬜⬜⬜⬜⬜⬜⬜⬜⬜⬜⬜⬜⬜⬜⬜\n",
      "⬜⬜⬜⬜⬜⬜⬜⬜⬜⬜⬜⬜⬜⬜⬜⬜⬜⬜⬜⬜⬜\n",
      "⬜⬜⬜⬜⬜⬜⬜⬜⬜⬜⬜⬜⬜⬜⬜⬜⬜⬜⬜⬜⬜\n",
      "⬜⬜⬜⬜⬜⬜⬜⬜⬜⬜⬜⬜⬜⬜⬜⬜⬜⬜⬜⬜⬜\n",
      "⬜⬜⬜⬜⬜⬜⬜⬜⬜⬜⬜⬜⬜⬜⬜⬜⬜⬜⬜⬜⬜\n",
      "⬜⬜⬜⬜⬜⬜⬜⬜⬜⬜⬜⬜⬜⬜⬜⬜⬜⬜⬜⬜⬜\n",
      "⬜⬜⬜⬜⬜⬜⬜⬜⬜⬜⬜⬜⬜⬜⬜⬜⬜⬜⬜⬜⬜\n"
     ]
    }
   ],
   "source": [
    "# A nicer view of the world, without commas and brackets\n",
    "for row in world:\n",
    "    print(\"\".join(row))"
   ]
  },
  {
   "cell_type": "markdown",
   "metadata": {},
   "source": [
    "## Robot\n",
    "\n",
    "Our robot '🤖' starts at the bottom left and can either move up, down, left, or right. It's looking for the '❤️' in the world. "
   ]
  },
  {
   "cell_type": "code",
   "execution_count": 3,
   "metadata": {},
   "outputs": [],
   "source": [
    "MOVES = [(-1,0), (0,1), (1,0), (0,-1)] # Up Right Down Left"
   ]
  },
  {
   "cell_type": "code",
   "execution_count": 4,
   "metadata": {},
   "outputs": [],
   "source": [
    "start = (len(world)-1, 0)"
   ]
  },
  {
   "cell_type": "code",
   "execution_count": 5,
   "metadata": {},
   "outputs": [],
   "source": [
    "goal = (0, len(world)-1)"
   ]
  },
  {
   "cell_type": "markdown",
   "metadata": {},
   "source": [
    "## Other Agents\n",
    "\n",
    "There are four other agents in the world: '🚎', '🚎', '🚎', and '🚎'."
   ]
  },
  {
   "cell_type": "code",
   "execution_count": 6,
   "metadata": {},
   "outputs": [],
   "source": [
    "# Update the world with this information\n",
    "world[start[0]][start[1]] = '🤖'\n",
    "world[start[0]][start[1]+2] = '🚎'\n",
    "world[start[0]][start[1]+4] = '🚎'\n",
    "world[start[0]][start[1]+6] = '🚎'\n",
    "world[start[0]][start[1]+8] = '🚎'\n",
    "world[goal[0]][goal[1]] = '❤️'"
   ]
  },
  {
   "cell_type": "code",
   "execution_count": 7,
   "metadata": {},
   "outputs": [
    {
     "name": "stdout",
     "output_type": "stream",
     "text": [
      "⬜⬜⬜⬜⬜⬜⬜⬜⬜⬜⬜⬜⬜⬜⬜⬜⬜⬜⬜⬜❤️\n",
      "⬜⬜⬜⬜⬜⬜⬜⬜⬜⬜⬜⬜⬜⬜⬜⬜⬜⬜⬜⬜⬜\n",
      "⬜⬜⬜⬜⬜⬜⬜⬜⬜⬜⬜⬜⬜⬜⬜⬜⬜⬜⬜⬜⬜\n",
      "⬜⬜⬜⬜⬜⬜⬜⬜⬜⬜⬜⬜⬜⬜⬜⬜⬜⬜⬜⬜⬜\n",
      "⬜⬜⬜⬜⬜⬜⬜⬜⬜⬜⬜⬜⬜⬜⬜⬜⬜⬜⬜⬜⬜\n",
      "⬜⬜⬜⬜⬜⬜⬜⬜⬜⬜⬜⬜⬜⬜⬜⬜⬜⬜⬜⬜⬜\n",
      "⬜⬜⬜⬜⬜⬜⬜⬜⬜⬜⬜⬜⬜⬜⬜⬜⬜⬜⬜⬜⬜\n",
      "⬜⬜⬜⬜⬜⬜⬜⬜⬜⬜⬜⬜⬜⬜⬜⬜⬜⬜⬜⬜⬜\n",
      "⬜⬜⬜⬜⬜⬜⬜⬜⬜⬜⬜⬜⬜⬜⬜⬜⬜⬜⬜⬜⬜\n",
      "⬜⬜⬜⬜⬜⬜⬜⬜⬜⬛⬛⬛⬜⬜⬜⬜⬜⬜⬜⬜⬜\n",
      "⬜⬜⬜⬜⬜⬜⬜⬜⬜⬛⬛⬛⬜⬜⬜⬜⬜⬜⬜⬜⬜\n",
      "⬜⬜⬜⬜⬜⬜⬜⬜⬜⬛⬛⬛⬜⬜⬜⬜⬜⬜⬜⬜⬜\n",
      "⬜⬜⬜⬜⬜⬜⬜⬜⬜⬜⬜⬜⬜⬜⬜⬜⬜⬜⬜⬜⬜\n",
      "⬜⬜⬜⬜⬜⬜⬜⬜⬜⬜⬜⬜⬜⬜⬜⬜⬜⬜⬜⬜⬜\n",
      "⬜⬜⬜⬜⬜⬜⬜⬜⬜⬜⬜⬜⬜⬜⬜⬜⬜⬜⬜⬜⬜\n",
      "⬜⬜⬜⬜⬜⬜⬜⬜⬜⬜⬜⬜⬜⬜⬜⬜⬜⬜⬜⬜⬜\n",
      "⬜⬜⬜⬜⬜⬜⬜⬜⬜⬜⬜⬜⬜⬜⬜⬜⬜⬜⬜⬜⬜\n",
      "⬜⬜⬜⬜⬜⬜⬜⬜⬜⬜⬜⬜⬜⬜⬜⬜⬜⬜⬜⬜⬜\n",
      "⬜⬜⬜⬜⬜⬜⬜⬜⬜⬜⬜⬜⬜⬜⬜⬜⬜⬜⬜⬜⬜\n",
      "⬜⬜⬜⬜⬜⬜⬜⬜⬜⬜⬜⬜⬜⬜⬜⬜⬜⬜⬜⬜⬜\n",
      "🤖⬜🚎⬜🚎⬜🚎⬜🚎⬜⬜⬜⬜⬜⬜⬜⬜⬜⬜⬜⬜\n"
     ]
    }
   ],
   "source": [
    "# A nicer view of the world, without commas and brackets\n",
    "for row in world:\n",
    "    print(\"\".join(row))"
   ]
  },
  {
   "cell_type": "markdown",
   "metadata": {
    "jp-MarkdownHeadingCollapsed": true
   },
   "source": [
    "## Problem #1\n",
    "\n",
    "\n",
    "'🤖' is your robot from Assignment #1 and uses the A$^*$ search function to find the optimal path to goal. Each '🚎' has no such capability; all it can do is swarm. Each '🚎' uses Boids Rules (repulsion and attraction only) with another '🚎' and '🤖'. Implement this multiagent system consisting of an intelligent '🤖' robot and four '🚎' agents. \n",
    "\n",
    "* Our A$^*$ robot '🤖' does not use Boids Rule, but is the de-facto leader of the swarm since the '🚎' agents swarm with it. \n",
    "\n",
    "* Print out the resulting view of the world ('🤖', '🚎', '⬛', and '❤️' icons) **for each step** '🤖' takes on its way to '❤️'. (Assignment #1 only asked for the final output. This assignment asks for a print of the world after each step taken by '🤖'.)\n",
    "\n",
    "* Use a repulsion range of 2 and a suitable attraction range that keeps the swarm together.\n",
    "\n",
    "* '🚎' shouldn't leave the world\n",
    "\n",
    "* '🚎' locations may need to be rounded when placed on the world for printing"
   ]
  },
  {
   "cell_type": "markdown",
   "metadata": {},
   "source": [
    "# Problem #2: Game Theory\n",
    "\n",
    "We are designing an experiment where two players employ the *Best Response with Inertia* algorithm against each other."
   ]
  },
  {
   "cell_type": "markdown",
   "metadata": {},
   "source": [
    "## Best Response with Inertia Algorithm\n",
    "\n",
    "Here is the outline of the algorithm for each player:\n",
    "\n",
    "\n",
    "```\n",
    "On day zero, play a random action\n",
    "\n",
    "On day t, do one of two things:\n",
    "\n",
    "    * With high probability, play the best response to what your opponent did yesterday, or\n",
    "    * With low probability, be lazy and just do what you did yesterday.\n",
    "```"
   ]
  },
  {
   "cell_type": "markdown",
   "metadata": {},
   "source": [
    "## Game\n",
    "\n",
    "The particular 2x2 game being played is the Stag-Hunt game, with the matrix:\n",
    "\n",
    "\n",
    "|  | | |\n",
    "|---|---|---|\n",
    "|  | S | H |\n",
    "| S | 3, 3 | 0, 2 |\n",
    "| H | 2, 0 | 2, 2 |\n",
    "\n",
    "\n",
    "Player 1 (P1) is the `row` player; Player 2 (P2) is the `col` player."
   ]
  },
  {
   "cell_type": "code",
   "execution_count": 8,
   "metadata": {},
   "outputs": [],
   "source": [
    "import random\n",
    "import matplotlib.pyplot as plt"
   ]
  },
  {
   "cell_type": "code",
   "execution_count": 9,
   "metadata": {},
   "outputs": [],
   "source": [
    "# The actions available to each player. Don't modify. \n",
    "actions_P1 = ['S', 'H']\n",
    "actions_P2 = ['S', 'H']\n",
    "\n",
    "# Store the history. Don't modify. \n",
    "history_P1_action, history_P1_utility = [], []\n",
    "history_P2_action, history_P2_utility = [], []"
   ]
  },
  {
   "cell_type": "markdown",
   "metadata": {},
   "source": [
    "<a id=\"get_utility\"></a>\n",
    "## get_utility\n",
    "\n",
    "This function takes a joint action tuple and returns the utility for each player, packaged as a tuple. It is hardcoded for the Stag-Hunt game described above.\n",
    "\n",
    "* **a** Tuple: joint action. a could be ('S', 'H'), for instance, which would signify that P1 has chosen to do 'S' and P2 has chosen to do 'H'.\n",
    "\n",
    "\n",
    "**returns** \n",
    "\n",
    "* **utility** Tuple: the utility for each player as (utility of P1, utility of P2). For example, if the input is ('S', 'H'), the returned value is (0, 2) -- 0 for P1, 2 for P2. "
   ]
  },
  {
   "cell_type": "code",
   "execution_count": 10,
   "metadata": {},
   "outputs": [],
   "source": [
    "def get_utility(a):\n",
    "    if a[0] == 'S' and a[1] == 'S':\n",
    "        return (3, 3)\n",
    "    elif a[0] == 'S' and a[1] == 'H':\n",
    "        return (0, 2)\n",
    "    elif a[0] == 'H' and a[1] == 'S':\n",
    "        return (2, 0)\n",
    "    elif a[0] == 'H' and a[1] == 'H':\n",
    "        return (2, 2)"
   ]
  },
  {
   "cell_type": "markdown",
   "metadata": {},
   "source": [
    "<div style=\"background: lemonchiffon; margin:20px; padding: 20px;\">\n",
    "    <p>\n",
    "        TODO: Help players pick actions based on the <i>Best Response with inertia</i> algorithm described above (instead of just picking 'S' like they are now). \n",
    "    </p>\n",
    "</div>"
   ]
  },
  {
   "cell_type": "markdown",
   "metadata": {},
   "source": [
    "<a id=\"run_experiment\"></a>\n",
    "## run_experiment\n",
    "\n",
    "This functions runs an experiment where two players play the Stag-Hunt game using the Best Response with Inertia algorithm.\n",
    "\n",
    "* **num_trials** Int: The number of trials to run\n",
    "* **num_days** Int: The number of days in each trial\n",
    "* **debug** Bool: If set to True, statements are printed out\n",
    "\n",
    "\n",
    "**returns** \n",
    "\n",
    "None"
   ]
  },
  {
   "cell_type": "code",
   "execution_count": 11,
   "metadata": {},
   "outputs": [],
   "source": [
    "def run_experiment(num_trials, num_days, debug=True):\n",
    "    if debug: print(f\"Trial\\tDay\\tP1\\tP2\\n--------------------------\")\n",
    "    for trial in range(num_trials):  \n",
    "        if debug: print(f\"--------------------------\")\n",
    "        for day in range(num_days):\n",
    "            high_probability = 0.75\n",
    "            if day == 0:\n",
    "                action_P1, action_P2 = random.choice(actions_P1), random.choice(actions_P2)\n",
    "            else:\n",
    "                yesterday = (trial * num_days) + day - 1\n",
    "                action_P1 = history_P2_action[yesterday] if random.random() <= high_probability else history_P1_action[yesterday]\n",
    "                action_P2 = history_P1_action[yesterday] if random.random() <= high_probability else history_P2_action[yesterday]\n",
    "            utility_P1, utility_P2 = get_utility(tuple((action_P1, action_P2)))\n",
    "            history_P1_action.append(action_P1)\n",
    "            history_P2_action.append(action_P2)\n",
    "            history_P1_utility.append(utility_P1)\n",
    "            history_P2_utility.append(utility_P2)\n",
    "            if debug: print(f\"{trial}\\t{day}\\t{action_P1}\\t{action_P2}\")"
   ]
  },
  {
   "cell_type": "code",
   "execution_count": 12,
   "metadata": {},
   "outputs": [
    {
     "name": "stdout",
     "output_type": "stream",
     "text": [
      "Trial\tDay\tP1\tP2\n",
      "--------------------------\n",
      "--------------------------\n",
      "0\t0\tH\tS\n",
      "0\t1\tS\tH\n",
      "0\t2\tH\tS\n",
      "0\t3\tS\tH\n",
      "0\t4\tH\tS\n",
      "0\t5\tS\tS\n",
      "0\t6\tS\tS\n",
      "0\t7\tS\tS\n",
      "0\t8\tS\tS\n",
      "0\t9\tS\tS\n",
      "--------------------------\n",
      "1\t0\tS\tH\n",
      "1\t1\tH\tS\n",
      "1\t2\tH\tH\n",
      "1\t3\tH\tH\n",
      "1\t4\tH\tH\n",
      "1\t5\tH\tH\n",
      "1\t6\tH\tH\n",
      "1\t7\tH\tH\n",
      "1\t8\tH\tH\n",
      "1\t9\tH\tH\n",
      "--------------------------\n",
      "2\t0\tS\tH\n",
      "2\t1\tH\tH\n",
      "2\t2\tH\tH\n",
      "2\t3\tH\tH\n",
      "2\t4\tH\tH\n",
      "2\t5\tH\tH\n",
      "2\t6\tH\tH\n",
      "2\t7\tH\tH\n",
      "2\t8\tH\tH\n",
      "2\t9\tH\tH\n",
      "--------------------------\n",
      "3\t0\tH\tH\n",
      "3\t1\tH\tH\n",
      "3\t2\tH\tH\n",
      "3\t3\tH\tH\n",
      "3\t4\tH\tH\n",
      "3\t5\tH\tH\n",
      "3\t6\tH\tH\n",
      "3\t7\tH\tH\n",
      "3\t8\tH\tH\n",
      "3\t9\tH\tH\n",
      "--------------------------\n",
      "4\t0\tH\tH\n",
      "4\t1\tH\tH\n",
      "4\t2\tH\tH\n",
      "4\t3\tH\tH\n",
      "4\t4\tH\tH\n",
      "4\t5\tH\tH\n",
      "4\t6\tH\tH\n",
      "4\t7\tH\tH\n",
      "4\t8\tH\tH\n",
      "4\t9\tH\tH\n",
      "--------------------------\n",
      "5\t0\tS\tS\n",
      "5\t1\tS\tS\n",
      "5\t2\tS\tS\n",
      "5\t3\tS\tS\n",
      "5\t4\tS\tS\n",
      "5\t5\tS\tS\n",
      "5\t6\tS\tS\n",
      "5\t7\tS\tS\n",
      "5\t8\tS\tS\n",
      "5\t9\tS\tS\n",
      "--------------------------\n",
      "6\t0\tS\tS\n",
      "6\t1\tS\tS\n",
      "6\t2\tS\tS\n",
      "6\t3\tS\tS\n",
      "6\t4\tS\tS\n",
      "6\t5\tS\tS\n",
      "6\t6\tS\tS\n",
      "6\t7\tS\tS\n",
      "6\t8\tS\tS\n",
      "6\t9\tS\tS\n",
      "--------------------------\n",
      "7\t0\tS\tH\n",
      "7\t1\tH\tS\n",
      "7\t2\tH\tS\n",
      "7\t3\tS\tH\n",
      "7\t4\tH\tH\n",
      "7\t5\tH\tH\n",
      "7\t6\tH\tH\n",
      "7\t7\tH\tH\n",
      "7\t8\tH\tH\n",
      "7\t9\tH\tH\n",
      "--------------------------\n",
      "8\t0\tH\tS\n",
      "8\t1\tS\tS\n",
      "8\t2\tS\tS\n",
      "8\t3\tS\tS\n",
      "8\t4\tS\tS\n",
      "8\t5\tS\tS\n",
      "8\t6\tS\tS\n",
      "8\t7\tS\tS\n",
      "8\t8\tS\tS\n",
      "8\t9\tS\tS\n",
      "--------------------------\n",
      "9\t0\tS\tH\n",
      "9\t1\tH\tS\n",
      "9\t2\tS\tH\n",
      "9\t3\tS\tH\n",
      "9\t4\tH\tH\n",
      "9\t5\tH\tH\n",
      "9\t6\tH\tH\n",
      "9\t7\tH\tH\n",
      "9\t8\tH\tH\n",
      "9\t9\tH\tH\n",
      "--------------------------\n",
      "10\t0\tH\tH\n",
      "10\t1\tH\tH\n",
      "10\t2\tH\tH\n",
      "10\t3\tH\tH\n",
      "10\t4\tH\tH\n",
      "10\t5\tH\tH\n",
      "10\t6\tH\tH\n",
      "10\t7\tH\tH\n",
      "10\t8\tH\tH\n",
      "10\t9\tH\tH\n",
      "--------------------------\n",
      "11\t0\tH\tH\n",
      "11\t1\tH\tH\n",
      "11\t2\tH\tH\n",
      "11\t3\tH\tH\n",
      "11\t4\tH\tH\n",
      "11\t5\tH\tH\n",
      "11\t6\tH\tH\n",
      "11\t7\tH\tH\n",
      "11\t8\tH\tH\n",
      "11\t9\tH\tH\n",
      "--------------------------\n",
      "12\t0\tH\tH\n",
      "12\t1\tH\tH\n",
      "12\t2\tH\tH\n",
      "12\t3\tH\tH\n",
      "12\t4\tH\tH\n",
      "12\t5\tH\tH\n",
      "12\t6\tH\tH\n",
      "12\t7\tH\tH\n",
      "12\t8\tH\tH\n",
      "12\t9\tH\tH\n",
      "--------------------------\n",
      "13\t0\tS\tS\n",
      "13\t1\tS\tS\n",
      "13\t2\tS\tS\n",
      "13\t3\tS\tS\n",
      "13\t4\tS\tS\n",
      "13\t5\tS\tS\n",
      "13\t6\tS\tS\n",
      "13\t7\tS\tS\n",
      "13\t8\tS\tS\n",
      "13\t9\tS\tS\n",
      "--------------------------\n",
      "14\t0\tS\tS\n",
      "14\t1\tS\tS\n",
      "14\t2\tS\tS\n",
      "14\t3\tS\tS\n",
      "14\t4\tS\tS\n",
      "14\t5\tS\tS\n",
      "14\t6\tS\tS\n",
      "14\t7\tS\tS\n",
      "14\t8\tS\tS\n",
      "14\t9\tS\tS\n",
      "--------------------------\n",
      "15\t0\tH\tH\n",
      "15\t1\tH\tH\n",
      "15\t2\tH\tH\n",
      "15\t3\tH\tH\n",
      "15\t4\tH\tH\n",
      "15\t5\tH\tH\n",
      "15\t6\tH\tH\n",
      "15\t7\tH\tH\n",
      "15\t8\tH\tH\n",
      "15\t9\tH\tH\n",
      "--------------------------\n",
      "16\t0\tS\tS\n",
      "16\t1\tS\tS\n",
      "16\t2\tS\tS\n",
      "16\t3\tS\tS\n",
      "16\t4\tS\tS\n",
      "16\t5\tS\tS\n",
      "16\t6\tS\tS\n",
      "16\t7\tS\tS\n",
      "16\t8\tS\tS\n",
      "16\t9\tS\tS\n",
      "--------------------------\n",
      "17\t0\tH\tS\n",
      "17\t1\tS\tH\n",
      "17\t2\tH\tS\n",
      "17\t3\tS\tH\n",
      "17\t4\tS\tS\n",
      "17\t5\tS\tS\n",
      "17\t6\tS\tS\n",
      "17\t7\tS\tS\n",
      "17\t8\tS\tS\n",
      "17\t9\tS\tS\n",
      "--------------------------\n",
      "18\t0\tS\tS\n",
      "18\t1\tS\tS\n",
      "18\t2\tS\tS\n",
      "18\t3\tS\tS\n",
      "18\t4\tS\tS\n",
      "18\t5\tS\tS\n",
      "18\t6\tS\tS\n",
      "18\t7\tS\tS\n",
      "18\t8\tS\tS\n",
      "18\t9\tS\tS\n",
      "--------------------------\n",
      "19\t0\tS\tH\n",
      "19\t1\tS\tH\n",
      "19\t2\tS\tH\n",
      "19\t3\tH\tS\n",
      "19\t4\tS\tH\n",
      "19\t5\tH\tS\n",
      "19\t6\tS\tH\n",
      "19\t7\tH\tH\n",
      "19\t8\tH\tH\n",
      "19\t9\tH\tH\n"
     ]
    }
   ],
   "source": [
    "# Parameters. Don't modify. Not even debug flag. \n",
    "run_experiment(num_trials=20, num_days=10, debug=True)"
   ]
  },
  {
   "cell_type": "markdown",
   "metadata": {},
   "source": [
    "<a id=\"plot_results\"></a>\n",
    "## plot_results\n",
    "\n",
    "This functions plots the results of an experiment using a bar chart.\n",
    "\n",
    "* **history_P1_action** List[Str]: The history of Player 1's actions over the course of the experiment \n",
    "* **history_P2_action** List[Str]: The history of Player 2's actions over the course of the experiment \n",
    "\n",
    "\n",
    "**returns** \n",
    "\n",
    "None"
   ]
  },
  {
   "cell_type": "code",
   "execution_count": 13,
   "metadata": {},
   "outputs": [],
   "source": [
    "def plot_results(history_P1_action, history_P2_action):\n",
    "    labels = ['(S,S)', '(S,H)', '(H,S)', '(H,H)']\n",
    "    cell_counts = [0, 0, 0, 0]\n",
    "    for i in range(len(history_P1_action)):\n",
    "        if history_P1_action[i] == 'S' and history_P2_action[i] == 'S':\n",
    "            cell_counts[0]+=1\n",
    "        if history_P1_action[i] == 'S' and history_P2_action[i] == 'H':\n",
    "            cell_counts[1]+=1\n",
    "        if history_P1_action[i] == 'H' and history_P2_action[i] == 'S':\n",
    "            cell_counts[2]+=1\n",
    "        if history_P1_action[i] == 'H' and history_P2_action[i] == 'H':\n",
    "            cell_counts[3]+=1\n",
    "    plt.bar(labels, cell_counts)\n",
    "    plt.show()"
   ]
  },
  {
   "cell_type": "code",
   "execution_count": 14,
   "metadata": {},
   "outputs": [
    {
     "data": {
      "image/png": "[encoded data removed]",
      "text/plain": [
       "<Figure size 640x480 with 1 Axes>"
      ]
     },
     "metadata": {},
     "output_type": "display_data"
    }
   ],
   "source": [
    "# Visualize the results. Don't modify. \n",
    "plot_results(history_P1_action, history_P2_action)"
   ]
  },
  {
   "cell_type": "markdown",
   "metadata": {},
   "source": [
    "| Question | Response | \n",
    "|------|------|\n",
    "|Where do agents get spend most of their time? | Choose one (leave your choice here and remove the other two choices): \n",
    "* Mostly (S,S)\n",
    "* Mostly (H,H)\n",
    "* Roughly 50-50 between (S,S) and (H,H)"
   ]
  },
  {
   "cell_type": "markdown",
   "metadata": {},
   "source": [
    "## Before You Submit...\n",
    "\n",
    "1. Re-read the general instructions provided above, and\n",
    "2. Hit \"Kernel\"->\"Restart & Run All\"."
   ]
  }
 ],
 "metadata": {
  "kernelspec": {
   "display_name": "Python 3 (ipykernel)",
   "language": "python",
   "name": "python3"
  },
  "language_info": {
   "codemirror_mode": {
    "name": "ipython",
    "version": 3
   },
   "file_extension": ".py",
   "mimetype": "text/x-python",
   "name": "python",
   "nbconvert_exporter": "python",
   "pygments_lexer": "ipython3",
   "version": "3.9.13"
  },
  "toc": {
   "colors": {
    "hover_highlight": "#DAA520",
    "navigate_num": "#000000",
    "navigate_text": "#333333",
    "running_highlight": "#FF0000",
    "selected_highlight": "#FFD700",
    "sidebar_border": "#EEEEEE",
    "wrapper_background": "#FFFFFF"
   },
   "moveMenuLeft": true,
   "nav_menu": {
    "height": "192px",
    "width": "252px"
   },
   "navigate_menu": true,
   "number_sections": true,
   "sideBar": true,
   "threshold": 4,
   "toc_cell": false,
   "toc_section_display": "block",
   "toc_window_display": false,
   "widenNotebook": false
  }
 },
 "nbformat": 4,
 "nbformat_minor": 4
}
